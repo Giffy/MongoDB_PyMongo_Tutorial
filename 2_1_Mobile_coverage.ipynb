{
  "nbformat": 4,
  "nbformat_minor": 0,
  "metadata": {
    "colab": {
      "name": "2.1 Mobile coverage.ipynb",
      "version": "0.3.2",
      "provenance": [],
      "collapsed_sections": [],
      "include_colab_link": true
    },
    "kernelspec": {
      "name": "python3",
      "display_name": "Python 3"
    }
  },
  "cells": [
    {
      "cell_type": "markdown",
      "metadata": {
        "id": "view-in-github",
        "colab_type": "text"
      },
      "source": [
        "<a href=\"https://colab.research.google.com/github/Giffy/MongoDB_PyMongo_Tutorial/blob/master/2_1_Mobile_coverage.ipynb\" target=\"_parent\"><img src=\"https://colab.research.google.com/assets/colab-badge.svg\" alt=\"Open In Colab\"/></a>"
      ]
    },
    {
      "metadata": {
        "id": "589llcg02kjx",
        "colab_type": "text"
      },
      "cell_type": "markdown",
      "source": [
        "# Example 2 - Mobile phone coverage"
      ]
    },
    {
      "metadata": {
        "id": "NUHoZ3eLdDSt",
        "colab_type": "text"
      },
      "cell_type": "markdown",
      "source": [
        "#1. System setup"
      ]
    },
    {
      "metadata": {
        "id": "ESQkmMPI2sDE",
        "colab_type": "text"
      },
      "cell_type": "markdown",
      "source": [
        "##1.1 Install Pymongo"
      ]
    },
    {
      "metadata": {
        "id": "UK98297r2uuk",
        "colab_type": "code",
        "colab": {}
      },
      "cell_type": "code",
      "source": [
        "!pip install pymongo==3.7.2   # Install PyMongo\n",
        "!pip install folium geopandas    # Install folium for map visualization"
      ],
      "execution_count": 0,
      "outputs": []
    },
    {
      "metadata": {
        "id": "LwK5pQ4Oukbp",
        "colab_type": "text"
      },
      "cell_type": "markdown",
      "source": [
        "##1.2 Connect to Google Drive"
      ]
    },
    {
      "metadata": {
        "id": "ELUANlXouk3Q",
        "colab_type": "code",
        "colab": {}
      },
      "cell_type": "code",
      "source": [
        "# Check is Link to Drive is OK\n",
        "google = !if [ -d 'GDrive/' ]; then echo \"1\" ; else echo \"0\"; fi\n",
        "if (google[0] is '0' ):\n",
        "  from google.colab import drive\n",
        "  drive.mount('/content/GDrive/')\n",
        "!if [ -d 'GDrive/' ]; then echo \"Connection to Google drive successful\" ; else echo \"Error to connect to Google drive\"; fi"
      ],
      "execution_count": 0,
      "outputs": []
    },
    {
      "metadata": {
        "id": "GmT771jbde0b",
        "colab_type": "text"
      },
      "cell_type": "markdown",
      "source": [
        "#2. Import libraries and set database"
      ]
    },
    {
      "metadata": {
        "id": "EiZKLvuA22WT",
        "colab_type": "text"
      },
      "cell_type": "markdown",
      "source": [
        "##2.1 Import libraries"
      ]
    },
    {
      "metadata": {
        "id": "PKg4_hsG2qCv",
        "colab_type": "code",
        "colab": {}
      },
      "cell_type": "code",
      "source": [
        "import pymongo                            # Library to access MongoDB\n",
        "from pymongo import MongoClient           # Imports MongoClient \n",
        "import pandas as pd                       # Library to work with dataframes\n",
        "import folium                             # Library to create the map\n",
        "from folium import plugins                # plugin to create a heatmap\n",
        "#import matplotlib.pyplot as plt  "
      ],
      "execution_count": 0,
      "outputs": []
    },
    {
      "metadata": {
        "id": "Gzjk1W5W288C",
        "colab_type": "text"
      },
      "cell_type": "markdown",
      "source": [
        "##2.2 Connect to database"
      ]
    },
    {
      "metadata": {
        "id": "fg5ipM7b24lt",
        "colab_type": "code",
        "colab": {}
      },
      "cell_type": "code",
      "source": [
        "# uri (uniform resource identifier) defines the connection parameters \n",
        "uri = 'localhost:27017'\n",
        "# start client to connect to MongoDB server \n",
        "client = MongoClient( uri )"
      ],
      "execution_count": 0,
      "outputs": []
    },
    {
      "metadata": {
        "id": "zo6--mSf3ILq",
        "colab_type": "text"
      },
      "cell_type": "markdown",
      "source": [
        "##2.3 Download database and import dataset into mongodb\n",
        "There are a lot of datasets available if you want to practice Mongo with BigData.\n",
        "\n",
        "Data has been downloaded from: [Dades Obertes de la Generalitat de Catalunya](http://governobert.gencat.cat/ca/dades_obertes/)\n",
        "\n",
        "Original dataset includes mobile phone coverage data in Catalunya, have 11M records and weights 1.7Gb.\n",
        "\n",
        "url = \"https://analisi.transparenciacatalunya.cat/api/views/g9ma-vbt8/rows.tsv?accessType=DOWNLOAD&bom=true\"\n"
      ]
    },
    {
      "metadata": {
        "id": "r3cin2281_rP",
        "colab_type": "code",
        "colab": {}
      },
      "cell_type": "code",
      "source": [
        "# Download dataset for exercise\n",
        "url = \"https://raw.githubusercontent.com/Giffy/Personal_dataset_repository/master/telefoniaBCN.csv.zip\"\n",
        "!wget $url\n",
        "!unzip telefoniaBCN.csv.zip"
      ],
      "execution_count": 0,
      "outputs": []
    },
    {
      "metadata": {
        "id": "bTiPfqE_3PlD",
        "colab_type": "text"
      },
      "cell_type": "markdown",
      "source": [
        "##2.4 Load data to database"
      ]
    },
    {
      "metadata": {
        "id": "FIZTnG403KIj",
        "colab_type": "code",
        "colab": {}
      },
      "cell_type": "code",
      "source": [
        "!mongodb-linux-x86_64-debian71-3.0.15/bin/mongoimport --db catalunya --collection mobileBCN --type csv --file telefoniaBCN.csv --drop --headerline\n",
        "\n",
        "#!Export data as CSV\n",
        "#!mongodb-linux-x86_64-debian71-3.0.15/bin/mongoexport --db catalunya --collection mobileBCN --type csv --out telefoniaBCN.csv --fields timestamp_,Senyal,OperadorDesc_,net_type,Activitat,NOM_MUNI,Year,Month,Hour,Carrier,weekday,Lat,Lng\n",
        "\n",
        "\n",
        "## mongoimport:\n",
        "##    --db            Database_Name\n",
        "##    --collections   Collection_Name\n",
        "##    --type          json (default)\n",
        "##                    csv (for comma-separated values file)\n",
        "##                    tsv (tab separated values)\n",
        "##    --jsonArray     to import JSON files in a JSON array\n",
        "##    --file          Filename \n",
        "##    --fields        To define field name\n",
        "##    --headerline    To define first rows (column name) as field name\n",
        "##\n",
        "##    --help\n",
        "\n",
        "\n",
        "# imported 382378"
      ],
      "execution_count": 0,
      "outputs": []
    },
    {
      "metadata": {
        "id": "Aa3tA9vFAU_6",
        "colab_type": "text"
      },
      "cell_type": "markdown",
      "source": [
        "#3. Data overview"
      ]
    },
    {
      "metadata": {
        "id": "bR-ek-2AMWCo",
        "colab_type": "code",
        "colab": {}
      },
      "cell_type": "code",
      "source": [
        "databases = client.list_database_names()                # Show database names\n",
        "db = client.catalunya                                   # Set the database to work in\n",
        "collections = db.list_collection_names()                # List the collections available \n",
        "collection = db.mobileBCN                               # Set collection \n",
        "print (\"Databases: \" + str(databases) + \"\\nCollections: \" + str(collections))      "
      ],
      "execution_count": 0,
      "outputs": []
    },
    {
      "metadata": {
        "id": "WDODiTNZQYpY",
        "colab_type": "code",
        "colab": {}
      },
      "cell_type": "code",
      "source": [
        "list( collection.find().limit(1) )"
      ],
      "execution_count": 0,
      "outputs": []
    },
    {
      "metadata": {
        "id": "W0WoOPtImDqA",
        "colab_type": "code",
        "colab": {}
      },
      "cell_type": "code",
      "source": [
        "collection.count_documents({'_id' : {'$exists' : 1} })"
      ],
      "execution_count": 0,
      "outputs": []
    },
    {
      "metadata": {
        "id": "N43iU-KORIxg",
        "colab_type": "code",
        "colab": {}
      },
      "cell_type": "code",
      "source": [
        "print ( collection.distinct('Carrier') )\n",
        "print ( collection.distinct('Month') )\n",
        "print ( collection.distinct('Activitat') )"
      ],
      "execution_count": 0,
      "outputs": []
    },
    {
      "metadata": {
        "id": "c5eWc8uSVZvI",
        "colab_type": "code",
        "colab": {}
      },
      "cell_type": "code",
      "source": [
        "collection.create_index([( 'Carrier', pymongo.ASCENDING)])        # Creates an index for Carrier\n",
        "collection.create_index([( 'Month', pymongo.ASCENDING)])          # Creates an index for Month\n",
        "collection.create_index([( 'Activitat', pymongo.ASCENDING)])      # Creates an index for Activitat\n",
        "collection.create_index([( 'net_type', pymongo.ASCENDING)])       # Creates an index for net_type\n",
        "\n",
        "collection.index_information()                                    # Shows the existing indexes"
      ],
      "execution_count": 0,
      "outputs": []
    },
    {
      "metadata": {
        "id": "6OvdmKHppxIY",
        "colab_type": "text"
      },
      "cell_type": "markdown",
      "source": [
        "# Queries to Database"
      ]
    },
    {
      "metadata": {
        "id": "bSPtDkaRqn7y",
        "colab_type": "text"
      },
      "cell_type": "markdown",
      "source": [
        "## Carrier Market share in Barcelona "
      ]
    },
    {
      "metadata": {
        "id": "SrxKtp8fp4K8",
        "colab_type": "code",
        "colab": {}
      },
      "cell_type": "code",
      "source": [
        "carrier_list = collection.distinct('Carrier')\n",
        "\n",
        "total = 0                                  # Contador del total de documentos\n",
        "for carrier in carrier_list:\n",
        "  total_operador = collection.count_documents({'Carrier': carrier })\n",
        "  total += total_operador\n",
        "  print ( carrier + ': ' + str(total_operador))\n",
        "print ( total)"
      ],
      "execution_count": 0,
      "outputs": []
    },
    {
      "metadata": {
        "id": "ht1mRWEzqnJ2",
        "colab_type": "code",
        "colab": {}
      },
      "cell_type": "code",
      "source": [
        "pipeline = [{ '$group':{ \n",
        "                  '_id' : { 'Carrier' : '$Carrier'}\n",
        "                  ,'Carrier' : {'$max' : '$Carrier'}\n",
        "                  ,'Total' : {'$sum' : 1}\n",
        "                  }\n",
        "            },\n",
        "            { '$project': \n",
        "                  { '_id' : 0,\n",
        "                    'Carrier' : 1,\n",
        "                    'Total' : 1}\n",
        "            },\n",
        "            { '$sort': {'Total' : -1}\n",
        "            }\n",
        "            ]\n",
        "query = list ( collection.aggregate( pipeline ) ) \n",
        "query "
      ],
      "execution_count": 0,
      "outputs": []
    },
    {
      "metadata": {
        "id": "NsbPt4tit2VZ",
        "colab_type": "code",
        "colab": {}
      },
      "cell_type": "code",
      "source": [
        "df = pd.DataFrame(query)\n",
        "df"
      ],
      "execution_count": 0,
      "outputs": []
    },
    {
      "metadata": {
        "id": "Eibr0Oy8vRi5",
        "colab_type": "code",
        "colab": {}
      },
      "cell_type": "code",
      "source": [
        "df = df.set_index('Carrier')\n",
        "df.plot(kind='bar');"
      ],
      "execution_count": 0,
      "outputs": []
    },
    {
      "metadata": {
        "id": "TrKDJofZ_EE5",
        "colab_type": "text"
      },
      "cell_type": "markdown",
      "source": [
        "## Heatmap"
      ]
    },
    {
      "metadata": {
        "id": "ZuLK7lf09QcS",
        "colab_type": "code",
        "colab": {}
      },
      "cell_type": "code",
      "source": [
        "list( collection.find({'Carrier' : 'movistar'}, {'_id', 'Carrier', 'Lat', 'Lng'}).limit(2) )"
      ],
      "execution_count": 0,
      "outputs": []
    },
    {
      "metadata": {
        "id": "mT_IOKsAjUoS",
        "colab_type": "code",
        "colab": {}
      },
      "cell_type": "code",
      "source": [
        "pipeline = [{ '$group':{ \n",
        "                  '_id' : { 'lat': '$Lat' , 'lon' : '$Lng', 'hour' : '$Hour'}\n",
        "#                  '_id' : { 'Carrier' : '$Carrier', 'lat': '$Lat' , 'lon' : '$Lng'}\n",
        "#                  ,'Carrier' : {'$max' : '$Carrier'}\n",
        "                  ,'lat' : {'$max' : '$Lat'}\n",
        "                  ,'lon' : {'$max' : '$Lng'}\n",
        "                  ,'hour': {'$max' : '$Hour'}\n",
        "                  ,'Total' : {'$sum' : 1}\n",
        "                  }\n",
        "            },\n",
        "            { '$match':{\n",
        "                  'hour' : 9\n",
        "#                  ,'Carrier' : 'movistar'\n",
        "                  }\n",
        "            },\n",
        "            { '$project': \n",
        "                  { '_id' : 0,\n",
        "                    'lat' : 1,\n",
        "                    'lon' : 1,\n",
        "#                    'Carrier' : 1,\n",
        "                    'hour' : 1,\n",
        "                    'Total' : 1}\n",
        "            },\n",
        "            { '$sort': {'Total' : -1}\n",
        "            }\n",
        "            ]\n",
        "\n",
        "query = list ( collection.aggregate( pipeline ) ) \n",
        "df = pd.DataFrame(query)\n",
        "query[0]"
      ],
      "execution_count": 0,
      "outputs": []
    },
    {
      "metadata": {
        "id": "LSrdLsxwURVw",
        "colab_type": "code",
        "colab": {}
      },
      "cell_type": "code",
      "source": [
        "print ( \"lat \" + str ( float(df.loc[0]['lat']) ) )\n",
        "print ( \"lng \" + str ( float(df.loc[0]['lon']) ) )\n",
        "print ( \"totals \" + str ( float(df.loc[0]['Total']) ))\n",
        "# extract lat, lon, and magnitude for the folium heatmap\n",
        "longitud  = len( df )\n",
        "lats = []\n",
        "lngs = []\n",
        "totals = []\n",
        "for i in range ( longitud ):\n",
        "    lats.append ( float(df.loc[i]['lat']) )\n",
        "    lngs.append ( float(df.loc[i]['lon']) )\n",
        "    totals.append(float(df.loc[i]['Total']) )"
      ],
      "execution_count": 0,
      "outputs": []
    },
    {
      "metadata": {
        "id": "lWWH0yntH65z",
        "colab_type": "code",
        "colab": {}
      },
      "cell_type": "code",
      "source": [
        "center_lat = 41.388\n",
        "center_lon = 2.159\n",
        "\n",
        "locationmap = folium.Map(location=[ center_lat , center_lon ], zoom_start=13, width=800, height=600 )\n",
        "locationmap.add_child(plugins.HeatMap(zip(lats, lngs, totals), radius = 12))\n",
        "\n",
        "locationmap"
      ],
      "execution_count": 0,
      "outputs": []
    },
    {
      "metadata": {
        "id": "5ce6H4FXyXBE",
        "colab_type": "code",
        "colab": {}
      },
      "cell_type": "code",
      "source": [
        "pipeline = [{ '$group':{ \n",
        "                  '_id' : { 'lat': '$Lat' , 'lon' : '$Lng', 'hour' : '$Hour'}\n",
        "#                  '_id' : { 'Carrier' : '$Carrier', 'lat': '$Lat' , 'lon' : '$Lng'}\n",
        "#                  ,'Carrier' : {'$max' : '$Carrier'}\n",
        "                  ,'lat' : {'$max' : '$Lat'}\n",
        "                  ,'lon' : {'$max' : '$Lng'}\n",
        "                  ,'hour': {'$max' : '$Hour'}\n",
        "                  ,'Total' : {'$sum' : 1}\n",
        "                  }\n",
        "            },\n",
        "            { '$match':{\n",
        "                  'hour' : 21\n",
        "#                  ,'Carrier' : 'movistar'\n",
        "                  }\n",
        "            },\n",
        "            { '$project': \n",
        "                  { '_id' : 0,\n",
        "                    'lat' : 1,\n",
        "                    'lon' : 1,\n",
        "#                    'Carrier' : 1,\n",
        "                    'hour' : 1,\n",
        "                    'Total' : 1}\n",
        "            },\n",
        "            { '$sort': {'Total' : -1}\n",
        "            }\n",
        "            ]\n",
        "\n",
        "query = list ( collection.aggregate( pipeline ) ) \n",
        "df = pd.DataFrame(query)\n",
        "query[0]"
      ],
      "execution_count": 0,
      "outputs": []
    },
    {
      "metadata": {
        "id": "50TxLp89UkW8",
        "colab_type": "code",
        "colab": {}
      },
      "cell_type": "code",
      "source": [
        "print ( \"lat \" + str ( float(df.loc[0]['lat']) ) )\n",
        "print ( \"lng \" + str ( float(df.loc[0]['lon']) ) )\n",
        "print ( \"totals \" + str ( float(df.loc[0]['Total']) ))\n",
        "# extract lat, lon, and magnitude for the folium heatmap\n",
        "longitud  = len( df )\n",
        "lats = []\n",
        "lngs = []\n",
        "totals = []\n",
        "for i in range ( longitud ):\n",
        "    lats.append ( float(df.loc[i]['lat']) )\n",
        "    lngs.append ( float(df.loc[i]['lon']) )\n",
        "    totals.append(float(df.loc[i]['Total']) )"
      ],
      "execution_count": 0,
      "outputs": []
    },
    {
      "metadata": {
        "id": "k_M2yk4zIhbb",
        "colab_type": "code",
        "colab": {}
      },
      "cell_type": "code",
      "source": [
        "center_lat = 41.388\n",
        "center_lon = 2.159\n",
        "\n",
        "locationmap = folium.Map(location=[ center_lat , center_lon ], zoom_start=13, width=800, height=600 )\n",
        "locationmap.add_child(plugins.HeatMap(zip(lats, lngs, totals), radius = 12))\n",
        "\n",
        "locationmap"
      ],
      "execution_count": 0,
      "outputs": []
    },
    {
      "metadata": {
        "id": "za2LYn8eXPIc",
        "colab_type": "text"
      },
      "cell_type": "markdown",
      "source": [
        "## Results\n",
        "\n",
        "### Barcelona at 9 AM\n",
        "<img src='https://raw.githubusercontent.com/Giffy/MongoDB_PyMongo_Tutorial/master/resources/Bcn9AM.png' width=\"600\"/>\n",
        "### Barcelona at 9 PM\n",
        "<img src='https://raw.githubusercontent.com/Giffy/MongoDB_PyMongo_Tutorial/master/resources/Bcn9PM.png' width=\"600\"/>"
      ]
    }
  ]
}