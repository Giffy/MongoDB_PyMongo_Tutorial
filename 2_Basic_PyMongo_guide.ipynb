{
  "nbformat": 4,
  "nbformat_minor": 0,
  "metadata": {
    "colab": {
      "name": "2_Basic_PyMongo_guide.ipynb",
      "version": "0.3.2",
      "provenance": [],
      "collapsed_sections": [
        "1KlQxWwK3td5",
        "_YlhIPRViedz",
        "Covx3sSf3bFe",
        "QuTTo7YQ484F",
        "axt30areDxa9",
        "oseJcRsuCr62",
        "BCZnyZurC0Zr",
        "4IVJGoRa6a6f",
        "hry7UXKDKWAc",
        "DoZyF60WH2eV",
        "GFR25e-0mrEp",
        "B8hrUEYfVcJq",
        "T6wSFkCNW3hx",
        "OiAkbDMeHann",
        "sVCQWvDFGAnt"
      ],
      "include_colab_link": true
    },
    "kernelspec": {
      "display_name": "Python 3",
      "language": "python",
      "name": "python3"
    }
  },
  "cells": [
    {
      "cell_type": "markdown",
      "metadata": {
        "id": "view-in-github",
        "colab_type": "text"
      },
      "source": [
        "<a href=\"https://colab.research.google.com/github/Giffy/MongoDB_PyMongo_Tutorial/blob/master/2_Basic_PyMongo_guide.ipynb\" target=\"_parent\"><img src=\"https://colab.research.google.com/assets/colab-badge.svg\" alt=\"Open In Colab\"/></a>"
      ]
    },
    {
      "metadata": {
        "id": "_eFayW9BKDBj",
        "colab_type": "text"
      },
      "cell_type": "markdown",
      "source": [
        "# Basic PyMongo guide\n",
        "\n",
        "\n",
        "*   CRUD part 2\n",
        "*   Query operators\n",
        ">-  Count\n",
        ">-  Maximum and Minimum\n",
        ">-  Inclusion, exclusion operators IN and NIN\n",
        ">-  Relational operators \"greater than or equal\", \"greater than\", \"equal\", \"little than\", \"little than or equal\"\n",
        ">-  Logical Query Operators\n",
        ">-  Exists & not exists\n",
        "*   List items that belong to a list or not\n",
        "*   Indexes\n"
      ]
    },
    {
      "metadata": {
        "id": "1KlQxWwK3td5",
        "colab_type": "text"
      },
      "cell_type": "markdown",
      "source": [
        "#1. System setup"
      ]
    },
    {
      "metadata": {
        "id": "vM6ta952S2z2",
        "colab_type": "text"
      },
      "cell_type": "markdown",
      "source": [
        "##1.1 Install PyMongo (if required)"
      ]
    },
    {
      "metadata": {
        "id": "fpS_a7o_FCVj",
        "colab_type": "code",
        "colab": {}
      },
      "cell_type": "code",
      "source": [
        "# Install PyMongo\n",
        "! python -m pip install pymongo==3.7.2"
      ],
      "execution_count": 0,
      "outputs": []
    },
    {
      "metadata": {
        "id": "_YlhIPRViedz",
        "colab_type": "text"
      },
      "cell_type": "markdown",
      "source": [
        "##1.2 Import PyMongo and set database"
      ]
    },
    {
      "metadata": {
        "id": "j5FAz5RM30_M",
        "colab_type": "code",
        "colab": {}
      },
      "cell_type": "code",
      "source": [
        "import datetime                           # Imports datetime library\n",
        "import pymongo                            # Imports PyMongo library\n",
        "from pymongo import MongoClient           # Imports MongoClient \n",
        "\n",
        "# uri (uniform resource identifier) defines the connection parameters \n",
        "# uri = 'mongodb:// USER : PASSWORD @ SERVER_NAME : PORT / DATABASENAME')\n",
        "# uri = 'mongodb:// USER : PASSWORD @ SERVER_NAME : PORT / DATABASE_NAME, CLUSTER_1_NAME : PORT , CLUSTER_2_NAME : PORT')\n",
        "uri = 'localhost:27017'\n",
        "# start client to connect to MongoDB server \n",
        "client = MongoClient( uri )"
      ],
      "execution_count": 0,
      "outputs": []
    },
    {
      "metadata": {
        "id": "KeTjQP0aKmAf",
        "colab_type": "code",
        "colab": {}
      },
      "cell_type": "code",
      "source": [
        "client.list_database_names()               # From previous module, we will have already a database called 'people'"
      ],
      "execution_count": 0,
      "outputs": []
    },
    {
      "metadata": {
        "id": "6dX5q27TA925",
        "colab_type": "code",
        "colab": {}
      },
      "cell_type": "code",
      "source": [
        "client.drop_database('people')             # We delete previous module data"
      ],
      "execution_count": 0,
      "outputs": []
    },
    {
      "metadata": {
        "id": "Covx3sSf3bFe",
        "colab_type": "text"
      },
      "cell_type": "markdown",
      "source": [
        "##1.3 Download database and import dataset into mongodb"
      ]
    },
    {
      "metadata": {
        "id": "QixrK4duFCVu",
        "colab_type": "code",
        "colab": {}
      },
      "cell_type": "code",
      "source": [
        "# Downloading JSON with Agenda\n",
        "!wget https://raw.githubusercontent.com/Giffy/Personal_dataset_repository/master/contacts.json\n",
        "  \n",
        "# Uploading data to Mongo Database\n",
        "!mongodb-linux-x86_64-debian71-3.0.15/bin/mongoimport --jsonArray --db people --collection addressbook  /content/contacts.json\n",
        "\n",
        "# Reference https://www.kenwalger.com/blog/nosql/mongodb/importing-data-mongoimport/"
      ],
      "execution_count": 0,
      "outputs": []
    },
    {
      "metadata": {
        "id": "QuTTo7YQ484F",
        "colab_type": "text"
      },
      "cell_type": "markdown",
      "source": [
        "#2. Database overview"
      ]
    },
    {
      "metadata": {
        "id": "-Cq37UFR4hoL",
        "colab_type": "code",
        "colab": {}
      },
      "cell_type": "code",
      "source": [
        "db = client.people                        # Set the database to work on\n",
        "db.list_collection_names()                # List the collections available"
      ],
      "execution_count": 0,
      "outputs": []
    },
    {
      "metadata": {
        "id": "-eK1yM9q5IN-",
        "colab_type": "code",
        "colab": {}
      },
      "cell_type": "code",
      "source": [
        "collection = db.addressbook               # Set the collection to work on"
      ],
      "execution_count": 0,
      "outputs": []
    },
    {
      "metadata": {
        "id": "axt30areDxa9",
        "colab_type": "text"
      },
      "cell_type": "markdown",
      "source": [
        "##2.1 Dataset size and attributes"
      ]
    },
    {
      "metadata": {
        "id": "XVsCkV6N5Yxj",
        "colab_type": "code",
        "colab": {}
      },
      "cell_type": "code",
      "source": [
        "## Dataset content summary\n",
        "num_documents = collection.count_documents({'_id' : {'$exists' : 1}})\n",
        "attributes = list (collection.find().limit(1)[1])     ## WARNING use as reference , NoSQL db can have different attributes by document\n",
        "\n",
        "print ('Number of documents : %d' % num_documents)\n",
        "print ('Attributes names : %s' % attributes)"
      ],
      "execution_count": 0,
      "outputs": []
    },
    {
      "metadata": {
        "id": "fTaDI33JL-ZU",
        "colab_type": "text"
      },
      "cell_type": "markdown",
      "source": [
        "### Warning  NoSQL database can have multiple attributes per document"
      ]
    },
    {
      "metadata": {
        "id": "GZb0p9fA9KbY",
        "colab_type": "code",
        "colab": {}
      },
      "cell_type": "code",
      "source": [
        "## Dataset content summary\n",
        "def content_attribute( attribute_name ):\n",
        "  return collection.distinct( attribute_name )\n",
        "\n",
        "for attribute_name in attributes:\n",
        "    content =  content_attribute( attribute_name )\n",
        "    sample = content\n",
        "    if len(content) > 20:\n",
        "      sample = content[:20]\n",
        "    print ('Item name : ' + attribute_name + \n",
        "           '\\n   Unique content : ' + str(len(content)) +\n",
        "           '\\n   Content : ' + str(sample) )"
      ],
      "execution_count": 0,
      "outputs": []
    },
    {
      "metadata": {
        "id": "pCmpA_Cd69cF",
        "colab_type": "code",
        "colab": {}
      },
      "cell_type": "code",
      "source": [
        "## We can list one document\n",
        "list ( collection.find().limit(1) )"
      ],
      "execution_count": 0,
      "outputs": []
    },
    {
      "metadata": {
        "id": "FVB8FcgQz8ok",
        "colab_type": "text"
      },
      "cell_type": "markdown",
      "source": [
        "#3. Create Read Update Delete - Part 2"
      ]
    },
    {
      "metadata": {
        "id": "oseJcRsuCr62",
        "colab_type": "text"
      },
      "cell_type": "markdown",
      "source": [
        "##3.1 Adding and delete attributes"
      ]
    },
    {
      "metadata": {
        "id": "HNcAfkv4z4ws",
        "colab_type": "text"
      },
      "cell_type": "markdown",
      "source": [
        "### Add new atribute to your collection"
      ]
    },
    {
      "metadata": {
        "id": "2g1SpJ-BzzHJ",
        "colab_type": "code",
        "colab": {}
      },
      "cell_type": "code",
      "source": [
        "collection.update_many( {\"age\" :{ \"$gte\" :0 }}, {\"$set\" : { \"favoriteColor\" : \"red\" }})"
      ],
      "execution_count": 0,
      "outputs": []
    },
    {
      "metadata": {
        "id": "B7ydDtKm1xmW",
        "colab_type": "code",
        "colab": {}
      },
      "cell_type": "code",
      "source": [
        "collection.update_many( {\"age\" :{ \"$nin\" : [\"\"] }}, {\"$set\" : { \"favoriteBook\" : \"Harry Potter\" }})"
      ],
      "execution_count": 0,
      "outputs": []
    },
    {
      "metadata": {
        "id": "ONVxD_i4XX5n",
        "colab_type": "code",
        "colab": {}
      },
      "cell_type": "code",
      "source": [
        "list(collection.find({\"age\" : 20} , {\"favoriteColor\",\"favoriteBook\", \"name\",\"age\"}).limit(1))"
      ],
      "execution_count": 0,
      "outputs": []
    },
    {
      "metadata": {
        "id": "MrqAqs8Izbb1",
        "colab_type": "text"
      },
      "cell_type": "markdown",
      "source": [
        "### Delete attribute and data"
      ]
    },
    {
      "metadata": {
        "id": "Nsleuwf9HGXt",
        "colab_type": "code",
        "colab": {}
      },
      "cell_type": "code",
      "source": [
        "## Deprecated   collection.update( {\"age\" :{ \"$gte\" :0 }}, {\"$unset\" :{ \"favoriteColor\" :1 }}, {multi :1})\n",
        "collection.update_many( {\"age\" :{ \"$gte\" :0 }}, {\"$unset\" :{ \"favoriteColor\" :1 , \"favoriteBook\" :1}})"
      ],
      "execution_count": 0,
      "outputs": []
    },
    {
      "metadata": {
        "id": "YHGXezyMFA9d",
        "colab_type": "code",
        "colab": {}
      },
      "cell_type": "code",
      "source": [
        "list(collection.find({\"age\" : 20} , {\"favoriteColor\",\"favoriteBook\", \"name\",\"age\"}).limit(1))"
      ],
      "execution_count": 0,
      "outputs": []
    },
    {
      "metadata": {
        "id": "BCZnyZurC0Zr",
        "colab_type": "text"
      },
      "cell_type": "markdown",
      "source": [
        "##3.2 Data visualization and Queries"
      ]
    },
    {
      "metadata": {
        "id": "-B0Z09foBVAt",
        "colab_type": "text"
      },
      "cell_type": "markdown",
      "source": [
        "###3.2.1 Visualization of attribute names  -  first level"
      ]
    },
    {
      "metadata": {
        "id": "bYBiWQdwAnNp",
        "colab_type": "code",
        "colab": {}
      },
      "cell_type": "code",
      "source": [
        "print (list (collection.find({\"age\" : 38, \"gender\" : 'female'}).limit(1)[1]))"
      ],
      "execution_count": 0,
      "outputs": []
    },
    {
      "metadata": {
        "id": "qKdVg4eQfhyM",
        "colab_type": "text"
      },
      "cell_type": "markdown",
      "source": [
        "###3.2.2 Visualization of attribute unique content (sorted)"
      ]
    },
    {
      "metadata": {
        "id": "ZDmmYJlffWtm",
        "colab_type": "code",
        "colab": {}
      },
      "cell_type": "code",
      "source": [
        "query = collection.distinct( \"age\" )\n",
        "print (\"Age :\" + str( sorted( query ) ))\n",
        "\n",
        "query = collection.distinct( \"gender\" ) \n",
        "print (\"Gender :\" + str( sorted( query ) ))"
      ],
      "execution_count": 0,
      "outputs": []
    },
    {
      "metadata": {
        "id": "goQul0oY7iK0",
        "colab_type": "text"
      },
      "cell_type": "markdown",
      "source": [
        "- Exercise:  Check the unique eye colors and favorite fruit\n",
        "\n",
        "      hint: attributes =  eyeColor and favoriteFruit"
      ]
    },
    {
      "metadata": {
        "id": "5bqpKccOf4_7",
        "colab_type": "code",
        "colab": {}
      },
      "cell_type": "code",
      "source": [
        ""
      ],
      "execution_count": 0,
      "outputs": []
    },
    {
      "metadata": {
        "id": "hU8Dyjid5Tqz",
        "colab_type": "text"
      },
      "cell_type": "markdown",
      "source": [
        "###3.2.3 Find document by id"
      ]
    },
    {
      "metadata": {
        "id": "cbfa0sJ8FCWB",
        "colab_type": "code",
        "colab": {}
      },
      "cell_type": "code",
      "source": [
        "# Get the id of existing document\n",
        "\n",
        "documents = collection.find( {\"_id\": {\"$exists\": True}} , ['name','age']).limit(1)\n",
        "\n",
        "itemId = \"\"\n",
        "for item in documents:\n",
        "  itemId = str( item['_id'] )\n",
        "\n",
        "print (itemId) "
      ],
      "execution_count": 0,
      "outputs": []
    },
    {
      "metadata": {
        "id": "h6Wvk_oxRxU7",
        "colab_type": "code",
        "colab": {}
      },
      "cell_type": "code",
      "source": [
        "# First import objectid object\n",
        "from bson.objectid import ObjectId"
      ],
      "execution_count": 0,
      "outputs": []
    },
    {
      "metadata": {
        "id": "AjwbKXQZSJVs",
        "colab_type": "code",
        "colab": {}
      },
      "cell_type": "code",
      "source": [
        "list(collection.find({\"_id\": ObjectId( itemId )} , ['name','age','favoriteFruit','company.email']))   ##  reading second level attribute 'email'"
      ],
      "execution_count": 0,
      "outputs": []
    },
    {
      "metadata": {
        "id": "kjKHdKVaDkzO",
        "colab_type": "text"
      },
      "cell_type": "markdown",
      "source": [
        "###3.2.4 Filter by fields"
      ]
    },
    {
      "metadata": {
        "id": "2B95WfRVDnxs",
        "colab_type": "code",
        "colab": {}
      },
      "cell_type": "code",
      "source": [
        "# collection.find(  FILTER_CONDITION   ,  FIELDS_to_retreive )\n",
        "# FIELDS      1 field:      string\n",
        "#             more than 1 : a list [] \n",
        "\n",
        "filters = {\"isActive\": True}\n",
        "fields = ['name','age', 'isActive','company.email']\n",
        "\n",
        "list(collection.find( filters , fields ).limit(1))"
      ],
      "execution_count": 0,
      "outputs": []
    },
    {
      "metadata": {
        "id": "QCOAMgEj-S3J",
        "colab_type": "code",
        "colab": {}
      },
      "cell_type": "code",
      "source": [
        "print( collection.count_documents( filters ) )"
      ],
      "execution_count": 0,
      "outputs": []
    },
    {
      "metadata": {
        "id": "dxa_7mvJBDgD",
        "colab_type": "code",
        "colab": {}
      },
      "cell_type": "code",
      "source": [
        "# Multiple filters\n",
        "\n",
        "filters = {\"$or\": [{\"age\" : 28}, {\"age\" : 29}] , \"gender\" : 'female'}\n",
        "\n",
        "print( collection.count_documents ( filters ) ) # count in Mongo the found documents \n",
        "print( len (list (collection.find( filters ))) ) # count in Python the found documents"
      ],
      "execution_count": 0,
      "outputs": []
    },
    {
      "metadata": {
        "id": "rXLzbIxpQUon",
        "colab_type": "text"
      },
      "cell_type": "markdown",
      "source": [
        "###3.2.5 Find by regex ( name starts with ' Ki* ')"
      ]
    },
    {
      "metadata": {
        "id": "FYQh4y5vQT4b",
        "colab_type": "code",
        "colab": {}
      },
      "cell_type": "code",
      "source": [
        "import re\n",
        "regex = re.compile('^Ki', re.IGNORECASE)\n",
        "\n",
        "# find documents which ssn starts with Ki\n",
        "\n",
        "filters = { 'name' : regex }\n",
        "fields = { '_id' : 0, 'name' : 1, 'isActive' : 1, 'age' : 1 }     #  Hide _id in reply  \n",
        "\n",
        "list ( collection.find( filters , fields ) )"
      ],
      "execution_count": 0,
      "outputs": []
    },
    {
      "metadata": {
        "id": "IjBzl57eE8I4",
        "colab_type": "text"
      },
      "cell_type": "markdown",
      "source": [
        "###3.2.6 Sort query Ascending"
      ]
    },
    {
      "metadata": {
        "id": "19KqVWt346Ws",
        "colab_type": "code",
        "colab": {}
      },
      "cell_type": "code",
      "source": [
        "# Ascending\n",
        "list ( collection.find( filters , fields ).sort('age', pymongo.ASCENDING) )"
      ],
      "execution_count": 0,
      "outputs": []
    },
    {
      "metadata": {
        "id": "VL659_S6FNRe",
        "colab_type": "code",
        "colab": {}
      },
      "cell_type": "code",
      "source": [
        "# Descending \n",
        "list ( collection.find( filters , fields ).sort('age', pymongo.DESCENDING) )"
      ],
      "execution_count": 0,
      "outputs": []
    },
    {
      "metadata": {
        "id": "nFOnWkY8VhNJ",
        "colab_type": "text"
      },
      "cell_type": "markdown",
      "source": [
        "#4. Query operators"
      ]
    },
    {
      "metadata": {
        "id": "4IVJGoRa6a6f",
        "colab_type": "text"
      },
      "cell_type": "markdown",
      "source": [
        "##4.1 Count"
      ]
    },
    {
      "metadata": {
        "id": "oO11VaKO6BXq",
        "colab_type": "code",
        "colab": {}
      },
      "cell_type": "code",
      "source": [
        "# Count documents with \"age\" equal to 38\n",
        "collection.count_documents({\"age\": 38})\n",
        "# the previous method was : collection.find({\"age\": 38}).count()  (deprecated)"
      ],
      "execution_count": 0,
      "outputs": []
    },
    {
      "metadata": {
        "id": "hry7UXKDKWAc",
        "colab_type": "text"
      },
      "cell_type": "markdown",
      "source": [
        "##4.2 Maximum and Minimum"
      ]
    },
    {
      "metadata": {
        "id": "1ERuxgGrgWkL",
        "colab_type": "code",
        "colab": {}
      },
      "cell_type": "code",
      "source": [
        "#Maximum\n",
        "list( collection.find({},{\"_id\": 0, \"age\": 1}).sort('age', pymongo.DESCENDING).limit(1))  # gets maximum age from MongoDB"
      ],
      "execution_count": 0,
      "outputs": []
    },
    {
      "metadata": {
        "id": "8ETZfdDhKeKq",
        "colab_type": "code",
        "colab": {}
      },
      "cell_type": "code",
      "source": [
        "max( collection.distinct( \"age\" ))   # gets all ages range from MongoDB and python gets the maximum"
      ],
      "execution_count": 0,
      "outputs": []
    },
    {
      "metadata": {
        "id": "82EmOgoafF8l",
        "colab_type": "code",
        "colab": {}
      },
      "cell_type": "code",
      "source": [
        "#Minimum\n",
        "list( collection.find({},{\"_id\": 0, \"age\": 1}).sort('age', pymongo.ASCENDING).limit(1))   # gets minimum age from MongoDB"
      ],
      "execution_count": 0,
      "outputs": []
    },
    {
      "metadata": {
        "id": "CLepC0YELHhq",
        "colab_type": "code",
        "colab": {}
      },
      "cell_type": "code",
      "source": [
        "min( collection.distinct( \"age\" ))   # gets all ages range from MongoDB and python gets the maximum"
      ],
      "execution_count": 0,
      "outputs": []
    },
    {
      "metadata": {
        "id": "RzWzJOeoMMFs",
        "colab_type": "code",
        "colab": {}
      },
      "cell_type": "code",
      "source": [
        "agemale   = collection.find({\"gender\" : 'male'}).distinct( \"age\" )\n",
        "agefemale = collection.find({\"gender\" : 'female'}).distinct( \"age\")\n",
        "\n",
        "print ('Male -  Min age: ' + str(min(agemale)) + ' and Max age: ' + str(max(agemale)))\n",
        "print ('Female -  Min age: ' + str(min(agefemale)) + ' and Max age: ' + str(max(agefemale)))"
      ],
      "execution_count": 0,
      "outputs": []
    },
    {
      "metadata": {
        "id": "DoZyF60WH2eV",
        "colab_type": "text"
      },
      "cell_type": "markdown",
      "source": [
        "##4.3 Inclusion, exclusion operators  IN and  NIN"
      ]
    },
    {
      "metadata": {
        "id": "5eooh_CVFsob",
        "colab_type": "code",
        "colab": {}
      },
      "cell_type": "code",
      "source": [
        "print( collection.count_documents( { \"name\" : { \"$in\": [ \"Kimberley Chase\", \"Kinney Wynn\" ] }} ))    # includes the names in count\n",
        "print( collection.count_documents( { \"name\" : { \"$nin\": [ \"Kimberley Chase\", \"Kinney Wynn\" ] }} ))   # excludes the names in count"
      ],
      "execution_count": 0,
      "outputs": []
    },
    {
      "metadata": {
        "id": "HLqK5JoeD2kc",
        "colab_type": "code",
        "colab": {}
      },
      "cell_type": "code",
      "source": [
        "list( collection.find( { \"name\" : { \"$in\": [\"Kimberley Chase\", \"Kinney Wynn\"] }}, ''))      # includes the names in find"
      ],
      "execution_count": 0,
      "outputs": []
    },
    {
      "metadata": {
        "id": "-S8V5negcVXU",
        "colab_type": "code",
        "colab": {}
      },
      "cell_type": "code",
      "source": [
        "collection.count_documents({\"age\" : { \"$nin\" : [\"\"] } })     # all documents"
      ],
      "execution_count": 0,
      "outputs": []
    },
    {
      "metadata": {
        "id": "GFR25e-0mrEp",
        "colab_type": "text"
      },
      "cell_type": "markdown",
      "source": [
        "##4.4 Relational operators"
      ]
    },
    {
      "metadata": {
        "id": "uq66cGpU60EK",
        "colab_type": "text"
      },
      "cell_type": "markdown",
      "source": [
        "###4.4.1 Relational operators with numbers :  \"greater than or equal\", \"greater than\",  \"equal\", \"little than\", \"little than or equal\""
      ]
    },
    {
      "metadata": {
        "id": "-5PaqRjJ6ZjM",
        "colab_type": "code",
        "colab": {}
      },
      "cell_type": "code",
      "source": [
        "collection.count_documents({\"age\": {\"$gte\" : 38}})      # greater than or equal"
      ],
      "execution_count": 0,
      "outputs": []
    },
    {
      "metadata": {
        "id": "kjqjDOAf6vhA",
        "colab_type": "code",
        "colab": {}
      },
      "cell_type": "code",
      "source": [
        "collection.count_documents({\"age\": {\"$gt\" : 38}})       # greater than"
      ],
      "execution_count": 0,
      "outputs": []
    },
    {
      "metadata": {
        "id": "JoIWXeht7EJT",
        "colab_type": "code",
        "colab": {}
      },
      "cell_type": "code",
      "source": [
        "collection.count_documents({\"age\": {\"$eq\" : 38}})       # equal"
      ],
      "execution_count": 0,
      "outputs": []
    },
    {
      "metadata": {
        "id": "fArwG9wv7SL5",
        "colab_type": "code",
        "colab": {}
      },
      "cell_type": "code",
      "source": [
        "collection.count_documents({\"age\": {\"$lt\" : 38}})       # lower than"
      ],
      "execution_count": 0,
      "outputs": []
    },
    {
      "metadata": {
        "id": "guyer5FL7VKd",
        "colab_type": "code",
        "colab": {}
      },
      "cell_type": "code",
      "source": [
        "collection.count_documents({\"age\": {\"$lte\" : 38}})      # lower than or equal"
      ],
      "execution_count": 0,
      "outputs": []
    },
    {
      "metadata": {
        "id": "0DJ4BCpy8F-V",
        "colab_type": "text"
      },
      "cell_type": "markdown",
      "source": [
        "###4.4.2 Relational operators with letters :  \"greater than or equal\"  or  \"little than or equal\"\n",
        "\n",
        "Be careful, capital letters come before than lowercase letters in MongoDB"
      ]
    },
    {
      "metadata": {
        "id": "vU6P6cNq8LEr",
        "colab_type": "code",
        "colab": {}
      },
      "cell_type": "code",
      "source": [
        "collection.count_documents({\"name\": {\"$lt\" : \"B\" }})   # Names which start with A"
      ],
      "execution_count": 0,
      "outputs": []
    },
    {
      "metadata": {
        "id": "l61N6pIGc5AN",
        "colab_type": "code",
        "colab": {}
      },
      "cell_type": "code",
      "source": [
        "collection.insert_one({'name' : \"B\"})\n",
        "collection.count_documents({\"name\": {\"$lte\" : \"B\" }})   # Names which start with A or is \"B\"    ## WARNING Uppercase the names before apply filter, "
      ],
      "execution_count": 0,
      "outputs": []
    },
    {
      "metadata": {
        "id": "7A2NRTA57bt5",
        "colab_type": "code",
        "colab": {}
      },
      "cell_type": "code",
      "source": [
        "collection.count_documents({\"name\": {\"$gte\" : \"B\" }})   # Names which start with letters B to Z "
      ],
      "execution_count": 0,
      "outputs": []
    },
    {
      "metadata": {
        "id": "Xo982xTneNKj",
        "colab_type": "code",
        "colab": {}
      },
      "cell_type": "code",
      "source": [
        "collection.count_documents({\"name\": {\"$gt\" : \"B\" }})   # Names which are not \"B\" and start with letters B to Z "
      ],
      "execution_count": 0,
      "outputs": []
    },
    {
      "metadata": {
        "id": "NKEcEF0lc-X7",
        "colab_type": "code",
        "colab": {}
      },
      "cell_type": "code",
      "source": [
        "collection.delete_one({'name' : \"B\"})"
      ],
      "execution_count": 0,
      "outputs": []
    },
    {
      "metadata": {
        "id": "B8hrUEYfVcJq",
        "colab_type": "text"
      },
      "cell_type": "markdown",
      "source": [
        "##4.5 Logical Query Operators"
      ]
    },
    {
      "metadata": {
        "id": "KSxdl_P6Eumx",
        "colab_type": "text"
      },
      "cell_type": "markdown",
      "source": [
        "###4.5.1 AND"
      ]
    },
    {
      "metadata": {
        "id": "PmBUPuwyYbHa",
        "colab_type": "code",
        "colab": {}
      },
      "cell_type": "code",
      "source": [
        "filters = { \"$and\":[ {\"name\" : \"Kinney Wynn\"}, {\"age\": 22} ]}\n",
        "fields = {}      # if fields are empty, it shows by default the id\n",
        "\n",
        "list ( collection.find( filters , fields ))"
      ],
      "execution_count": 0,
      "outputs": []
    },
    {
      "metadata": {
        "id": "6zEjjJOfW9Bo",
        "colab_type": "text"
      },
      "cell_type": "markdown",
      "source": [
        "###4.5.2 OR"
      ]
    },
    {
      "metadata": {
        "id": "y0RMBSPTjYxN",
        "colab_type": "code",
        "colab": {}
      },
      "cell_type": "code",
      "source": [
        "filters = {\"$or\":[ {\"age\" : 28}, {\"age\" : 29} ]}\n",
        "fields = {}\n",
        "\n",
        "collection.count_documents( filters , fields )"
      ],
      "execution_count": 0,
      "outputs": []
    },
    {
      "metadata": {
        "id": "KMnrvAscZpV5",
        "colab_type": "text"
      },
      "cell_type": "markdown",
      "source": [
        "###4.5.3 AND & OR"
      ]
    },
    {
      "metadata": {
        "id": "4j6Jg7lOBNcl",
        "colab_type": "code",
        "colab": {}
      },
      "cell_type": "code",
      "source": [
        "filters = { \"$and\":[ \n",
        "                {\"$or\":[ {\"name\" : \"Kinney Wynn\"}, {\"name\" : \"Kimberley Chase\"}]},\n",
        "                {\"age\": 22} \n",
        "            ]}\n",
        "fields = {'name','age'}      # if fields are empty, it shows by default the id\n",
        "\n",
        "list ( collection.find( filters , fields ))"
      ],
      "execution_count": 0,
      "outputs": []
    },
    {
      "metadata": {
        "id": "T6wSFkCNW3hx",
        "colab_type": "text"
      },
      "cell_type": "markdown",
      "source": [
        "##4.6 Exists & not exists"
      ]
    },
    {
      "metadata": {
        "id": "xt5JX0dFGAHj",
        "colab_type": "code",
        "colab": {}
      },
      "cell_type": "code",
      "source": [
        "print(collection.count_documents({'_id' : {'$exists' : 1}}))  # Counts all documents with attribute '_id'"
      ],
      "execution_count": 0,
      "outputs": []
    },
    {
      "metadata": {
        "id": "jHcv2aOuGpXr",
        "colab_type": "code",
        "colab": {}
      },
      "cell_type": "code",
      "source": [
        "# Counts documents without attribute 'age'\n",
        "print(collection.count_documents({'age' : {'$exists' : 0}}))"
      ],
      "execution_count": 0,
      "outputs": []
    },
    {
      "metadata": {
        "id": "OiAkbDMeHann",
        "colab_type": "text"
      },
      "cell_type": "markdown",
      "source": [
        "#5. List items that belong to a list or not"
      ]
    },
    {
      "metadata": {
        "id": "rsgwuiq0H7XL",
        "colab_type": "code",
        "colab": {}
      },
      "cell_type": "code",
      "source": [
        "# Count documents with age equal to 28, 29 or 30\n",
        "print(collection.count_documents({'age' : {'$in': [ 28, 29, 30]}}))"
      ],
      "execution_count": 0,
      "outputs": []
    },
    {
      "metadata": {
        "id": "FrESseVVHa6i",
        "colab_type": "code",
        "colab": {}
      },
      "cell_type": "code",
      "source": [
        "# Count documents with age different to 28, 29 or 30\n",
        "print(collection.count_documents({'age' : {'$nin': [ 28, 29, 30]}}))"
      ],
      "execution_count": 0,
      "outputs": []
    },
    {
      "metadata": {
        "id": "tenDYKRuITJP",
        "colab_type": "code",
        "colab": {}
      },
      "cell_type": "code",
      "source": [
        "# Count documents with favorite fruit different to banana and apple\n",
        "print(collection.count_documents({'favoriteFruit' : {'$nin': [ 'banana', 'apple']}}))\n"
      ],
      "execution_count": 0,
      "outputs": []
    },
    {
      "metadata": {
        "id": "sVCQWvDFGAnt",
        "colab_type": "text"
      },
      "cell_type": "markdown",
      "source": [
        "#6. Indexes\n",
        "Adding indexes can help accelerate certain queries and can also add additional functionality to querying and storing documents."
      ]
    },
    {
      "metadata": {
        "id": "By1crCb5r4lr",
        "colab_type": "text"
      },
      "cell_type": "markdown",
      "source": [
        "##6.1 Index information"
      ]
    },
    {
      "metadata": {
        "id": "QDq-ETo2g_oN",
        "colab_type": "code",
        "colab": {}
      },
      "cell_type": "code",
      "source": [
        "collection.index_information()                            # Shows the existing indexes"
      ],
      "execution_count": 0,
      "outputs": []
    },
    {
      "metadata": {
        "id": "hzB3My5aWrlM",
        "colab_type": "text"
      },
      "cell_type": "markdown",
      "source": [
        "##6.2 Create index "
      ]
    },
    {
      "metadata": {
        "id": "2nLBUzdNXCgu",
        "colab_type": "code",
        "colab": {}
      },
      "cell_type": "code",
      "source": [
        "collection.create_index([( \"age\" , pymongo.ASCENDING)])   # Returns the name of the index"
      ],
      "execution_count": 0,
      "outputs": []
    },
    {
      "metadata": {
        "id": "j-5-RVedp8Ea",
        "colab_type": "text"
      },
      "cell_type": "markdown",
      "source": [
        "##6.3 Create index with unique registers"
      ]
    },
    {
      "metadata": {
        "id": "BV4y5LvHpt10",
        "colab_type": "code",
        "colab": {}
      },
      "cell_type": "code",
      "source": [
        "result = db.profiles.create_index([('user_id', pymongo.ASCENDING)], unique=True)  # unique index on a key that rejects documents whose value for that key already exists in the index\n",
        "sorted(list(db.profiles.index_information()))"
      ],
      "execution_count": 0,
      "outputs": []
    },
    {
      "metadata": {
        "id": "cs2prXcrpkJ3",
        "colab_type": "code",
        "colab": {}
      },
      "cell_type": "code",
      "source": [
        "user_profiles = [ {'user_id': 211, 'name': 'Luke'}, {'user_id': 212, 'name': 'Ziltoid'}]\n",
        "result = db.profiles.insert_many(user_profiles)\n",
        "db.drop.profiles()"
      ],
      "execution_count": 0,
      "outputs": []
    },
    {
      "metadata": {
        "id": "Ia0ZWQkMpoop",
        "colab_type": "code",
        "colab": {}
      },
      "cell_type": "code",
      "source": [
        "new_profile = {'user_id': 213, 'name': 'Drew'}\n",
        "result = db.profiles.insert_one(new_profile)  # This is fine."
      ],
      "execution_count": 0,
      "outputs": []
    },
    {
      "metadata": {
        "id": "PZKZ92imqrai",
        "colab_type": "code",
        "colab": {}
      },
      "cell_type": "code",
      "source": [
        "duplicate_profile = {'user_id': 212, 'name': 'Tommy'}\n",
        "result = db.profiles.insert_one(duplicate_profile)\n",
        "\n",
        "## Error :  DuplicateKeyError: E11000 duplicate key error index: people.profiles.$user_id_1 dup key: { : 212 }"
      ],
      "execution_count": 0,
      "outputs": []
    },
    {
      "metadata": {
        "id": "R-gB9bqCsZ1e",
        "colab_type": "text"
      },
      "cell_type": "markdown",
      "source": [
        "## Congratulations,  you finished the part 2 !!\n",
        "Find additional notebooks to learn pymongo in http://www.github.com/giffy/MongoDB_PyMongo_Tutorial\n"
      ]
    }
  ]
}