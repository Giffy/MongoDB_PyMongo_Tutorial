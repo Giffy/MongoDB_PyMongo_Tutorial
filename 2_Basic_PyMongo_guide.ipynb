{
  "nbformat": 4,
  "nbformat_minor": 0,
  "metadata": {
    "colab": {
      "name": "2_Basic_PyMongo_guide.ipynb",
      "version": "0.3.2",
      "provenance": [],
      "collapsed_sections": [
        "1KlQxWwK3td5",
        "QuTTo7YQ484F",
        "oseJcRsuCr62",
        "BCZnyZurC0Zr"
      ],
      "include_colab_link": true
    },
    "kernelspec": {
      "display_name": "Python 3",
      "language": "python",
      "name": "python3"
    }
  },
  "cells": [
    {
      "cell_type": "markdown",
      "metadata": {
        "id": "view-in-github",
        "colab_type": "text"
      },
      "source": [
        "<a href=\"https://colab.research.google.com/github/Giffy/MongoDB_PyMongo_Tutorial/blob/master/2_Basic_PyMongo_guide.ipynb\" target=\"_parent\"><img src=\"https://colab.research.google.com/assets/colab-badge.svg\" alt=\"Open In Colab\"/></a>"
      ]
    },
    {
      "metadata": {
        "id": "_eFayW9BKDBj",
        "colab_type": "text"
      },
      "cell_type": "markdown",
      "source": [
        "# Basic PyMongo guide\n",
        "\n",
        "\n",
        "*   Connection to Mongo\n",
        "*   Basic database, collection management\n",
        "*   CRUD  one document\n",
        "*   CRUD  many documents\n"
      ]
    },
    {
      "metadata": {
        "id": "1KlQxWwK3td5",
        "colab_type": "text"
      },
      "cell_type": "markdown",
      "source": [
        "#1. System setup"
      ]
    },
    {
      "metadata": {
        "id": "vM6ta952S2z2",
        "colab_type": "text"
      },
      "cell_type": "markdown",
      "source": [
        "##1.1 Install PyMongo (if required)"
      ]
    },
    {
      "metadata": {
        "id": "fpS_a7o_FCVj",
        "colab_type": "code",
        "outputId": "151c62aa-3aed-482d-f59f-a76ee4b391a2",
        "colab": {
          "base_uri": "https://localhost:8080/",
          "height": 35
        }
      },
      "cell_type": "code",
      "source": [
        "# Install PyMongo\n",
        "! python -m pip install pymongo==3.7.2"
      ],
      "execution_count": 4,
      "outputs": [
        {
          "output_type": "stream",
          "text": [
            "Requirement already satisfied: pymongo==3.7.2 in /usr/local/lib/python3.6/dist-packages (3.7.2)\n"
          ],
          "name": "stdout"
        }
      ]
    },
    {
      "metadata": {
        "id": "_YlhIPRViedz",
        "colab_type": "text"
      },
      "cell_type": "markdown",
      "source": [
        "##1.2 Import PyMongo and set database"
      ]
    },
    {
      "metadata": {
        "id": "j5FAz5RM30_M",
        "colab_type": "code",
        "colab": {}
      },
      "cell_type": "code",
      "source": [
        "import datetime                           # Imports datetime library\n",
        "import pymongo                            # Imports PyMongo library\n",
        "from pymongo import MongoClient           # Imports MongoClient \n",
        "\n",
        "# uri (uniform resource identifier) defines the connection parameters \n",
        "# uri = 'mongodb:// USER : PASSWORD @ SERVER_NAME : PORT / DATABASENAME')\n",
        "# uri = 'mongodb:// USER : PASSWORD @ SERVER_NAME : PORT / DATABASE_NAME, CLUSTER_1_NAME : PORT , CLUSTER_2_NAME : PORT')\n",
        "uri = 'localhost:27017'\n",
        "# start client to connect to MongoDB server \n",
        "client = MongoClient( uri )"
      ],
      "execution_count": 0,
      "outputs": []
    },
    {
      "metadata": {
        "id": "KeTjQP0aKmAf",
        "colab_type": "code",
        "outputId": "90ce17c9-526d-4f77-9df9-d8e4f9c8dd47",
        "colab": {
          "base_uri": "https://localhost:8080/",
          "height": 35
        }
      },
      "cell_type": "code",
      "source": [
        "client.list_database_names()               # From previous module, we will have already a database called 'people'"
      ],
      "execution_count": 14,
      "outputs": [
        {
          "output_type": "execute_result",
          "data": {
            "text/plain": [
              "['local', 'barcelona', 'people']"
            ]
          },
          "metadata": {
            "tags": []
          },
          "execution_count": 14
        }
      ]
    },
    {
      "metadata": {
        "id": "6dX5q27TA925",
        "colab_type": "code",
        "colab": {}
      },
      "cell_type": "code",
      "source": [
        "client.drop_database('people')             # We delete previous module data"
      ],
      "execution_count": 0,
      "outputs": []
    },
    {
      "metadata": {
        "id": "Covx3sSf3bFe",
        "colab_type": "text"
      },
      "cell_type": "markdown",
      "source": [
        "##1.3 Download database and import dataset into mongodb"
      ]
    },
    {
      "metadata": {
        "id": "QixrK4duFCVu",
        "colab_type": "code",
        "outputId": "5a9e42dc-94f6-4235-e37b-269e6eaf713f",
        "colab": {
          "base_uri": "https://localhost:8080/",
          "height": 256
        }
      },
      "cell_type": "code",
      "source": [
        "# Downloading JSON with Agenda\n",
        "!wget https://raw.githubusercontent.com/Giffy/Personal_dataset_repository/master/contacts.json\n",
        "  \n",
        "# Uploading data to Mongo Database\n",
        "!mongodb-linux-x86_64-debian71-3.0.15/bin/mongoimport --jsonArray --db people --collection addressbook  /content/contacts.json\n",
        "\n",
        "# Reference https://www.kenwalger.com/blog/nosql/mongodb/importing-data-mongoimport/"
      ],
      "execution_count": 16,
      "outputs": [
        {
          "output_type": "stream",
          "text": [
            "--2018-11-21 10:41:04--  https://raw.githubusercontent.com/Giffy/Personal_dataset_repository/master/contacts.json\n",
            "Resolving raw.githubusercontent.com (raw.githubusercontent.com)... 151.101.0.133, 151.101.64.133, 151.101.128.133, ...\n",
            "Connecting to raw.githubusercontent.com (raw.githubusercontent.com)|151.101.0.133|:443... connected.\n",
            "HTTP request sent, awaiting response... 200 OK\n",
            "Length: 549538 (537K) [text/plain]\n",
            "Saving to: ‘contacts.json.3’\n",
            "\n",
            "\rcontacts.json.3       0%[                    ]       0  --.-KB/s               \rcontacts.json.3     100%[===================>] 536.66K  --.-KB/s    in 0.06s   \n",
            "\n",
            "2018-11-21 10:41:04 (8.40 MB/s) - ‘contacts.json.3’ saved [549538/549538]\n",
            "\n",
            "2018-11-21T10:41:05.771+0000\tconnected to: localhost\n",
            "2018-11-21T10:41:06.721+0000\timported 1000 documents\n"
          ],
          "name": "stdout"
        }
      ]
    },
    {
      "metadata": {
        "id": "QuTTo7YQ484F",
        "colab_type": "text"
      },
      "cell_type": "markdown",
      "source": [
        "#2. Database overview"
      ]
    },
    {
      "metadata": {
        "id": "-Cq37UFR4hoL",
        "colab_type": "code",
        "outputId": "3ab8f819-741c-49db-b7ab-5a1b85ae28d4",
        "colab": {
          "base_uri": "https://localhost:8080/",
          "height": 35
        }
      },
      "cell_type": "code",
      "source": [
        "db = client.people                        # Set the database to work on\n",
        "db.list_collection_names()                # List the collections available"
      ],
      "execution_count": 17,
      "outputs": [
        {
          "output_type": "execute_result",
          "data": {
            "text/plain": [
              "['addressbook', 'system.indexes']"
            ]
          },
          "metadata": {
            "tags": []
          },
          "execution_count": 17
        }
      ]
    },
    {
      "metadata": {
        "id": "-eK1yM9q5IN-",
        "colab_type": "code",
        "colab": {}
      },
      "cell_type": "code",
      "source": [
        "collection = db.addressbook               # Set the collection to work on"
      ],
      "execution_count": 0,
      "outputs": []
    },
    {
      "metadata": {
        "id": "axt30areDxa9",
        "colab_type": "text"
      },
      "cell_type": "markdown",
      "source": [
        "##2.1 Dataset size and attributes"
      ]
    },
    {
      "metadata": {
        "id": "XVsCkV6N5Yxj",
        "colab_type": "code",
        "outputId": "c775fc79-858b-4dc6-c3e5-a5a9a2c62e05",
        "colab": {
          "base_uri": "https://localhost:8080/",
          "height": 54
        }
      },
      "cell_type": "code",
      "source": [
        "## Dataset content summary\n",
        "num_documents = collection.count_documents({'_id' : {'$exists' : 1}})\n",
        "attributes = list (collection.find().limit(1)[1])     ## WARNING use as reference , NoSQL db can have different attributes by document\n",
        "\n",
        "print ('Number of documents : %d' % num_documents)\n",
        "print ('Attributes names : %s' % attributes)"
      ],
      "execution_count": 19,
      "outputs": [
        {
          "output_type": "stream",
          "text": [
            "Number of documents : 1000\n",
            "Attributes names : ['_id', 'index', 'name', 'isActive', 'registered', 'age', 'gender', 'eyeColor', 'favoriteFruit', 'company', 'tags']\n"
          ],
          "name": "stdout"
        }
      ]
    },
    {
      "metadata": {
        "id": "GZb0p9fA9KbY",
        "colab_type": "code",
        "outputId": "b411ea38-3e89-41c6-f0a8-c186f3ded083",
        "colab": {
          "base_uri": "https://localhost:8080/",
          "height": 643
        }
      },
      "cell_type": "code",
      "source": [
        "## Dataset content summary\n",
        "def content_attribute( attribute_name ):\n",
        "  return collection.distinct( attribute_name )\n",
        "\n",
        "for attribute_name in attributes:\n",
        "    content =  content_attribute( attribute_name )\n",
        "    sample = content\n",
        "    if len(content) > 20:\n",
        "      sample = content[:20]\n",
        "    print ('Item name : ' + attribute_name + \n",
        "           '\\n   Unique content : ' + str(len(content)) +\n",
        "           '\\n   Content : ' + str(sample) )"
      ],
      "execution_count": 20,
      "outputs": [
        {
          "output_type": "stream",
          "text": [
            "Item name : _id\n",
            "   Unique content : 1000\n",
            "   Content : [ObjectId('5bf536410f50e03768521ee8'), ObjectId('5bf536410f50e03768521ee9'), ObjectId('5bf536410f50e03768521eea'), ObjectId('5bf536410f50e03768521eeb'), ObjectId('5bf536410f50e03768521eec'), ObjectId('5bf536410f50e03768521eed'), ObjectId('5bf536410f50e03768521eee'), ObjectId('5bf536410f50e03768521eef'), ObjectId('5bf536410f50e03768521ef0'), ObjectId('5bf536410f50e03768521ef1'), ObjectId('5bf536410f50e03768521ef2'), ObjectId('5bf536410f50e03768521ef3'), ObjectId('5bf536410f50e03768521ef4'), ObjectId('5bf536410f50e03768521ef5'), ObjectId('5bf536410f50e03768521ef6'), ObjectId('5bf536410f50e03768521ef7'), ObjectId('5bf536410f50e03768521ef8'), ObjectId('5bf536410f50e03768521ef9'), ObjectId('5bf536410f50e03768521efa'), ObjectId('5bf536410f50e03768521efb')]\n",
            "Item name : index\n",
            "   Unique content : 1000\n",
            "   Content : [1, 2, 0, 3, 4, 6, 5, 7, 8, 9, 11, 12, 10, 13, 14, 16, 17, 15, 18, 19]\n",
            "Item name : name\n",
            "   Unique content : 1000\n",
            "   Content : ['Kitty Snow', 'Hays Wise', 'Aurelia Gonzales', 'Karyn Rhodes', 'Alison Farmer', 'Carmella Morse', 'Grace Larson', 'Anastasia Blake', 'Dale Holman', 'Tina Barnett', 'Morrison Sheppard', 'Le Farley', 'Belinda Zimmerman', 'Sharon Grimes', 'Wendy Sampson', 'Santana Preston', 'Lupe Barry', 'Newman Rodriquez', 'Mable Pratt', 'Mcguire Vincent']\n",
            "Item name : isActive\n",
            "   Unique content : 2\n",
            "   Content : [False, True]\n",
            "Item name : registered\n",
            "   Unique content : 1000\n",
            "   Content : [datetime.datetime(2018, 1, 23, 4, 46, 15), datetime.datetime(2015, 2, 23, 10, 22, 15), datetime.datetime(2015, 2, 11, 4, 22, 39), datetime.datetime(2014, 3, 11, 3, 2, 33), datetime.datetime(2018, 1, 22, 10, 5, 45), datetime.datetime(2014, 6, 8, 11, 20, 22), datetime.datetime(2014, 4, 20, 11, 37, 23), datetime.datetime(2016, 7, 1, 2, 32, 46), datetime.datetime(2014, 7, 11, 9, 8, 36), datetime.datetime(2015, 3, 9, 11, 16, 38), datetime.datetime(2014, 7, 23, 4, 46, 35), datetime.datetime(2014, 11, 24, 7, 41, 12), datetime.datetime(2015, 11, 19, 2, 18, 9), datetime.datetime(2017, 12, 22, 1, 4, 16), datetime.datetime(2017, 3, 28, 4, 46, 20), datetime.datetime(2014, 5, 23, 12, 41, 39), datetime.datetime(2014, 1, 6, 2, 4, 30), datetime.datetime(2017, 9, 19, 11, 25, 18), datetime.datetime(2016, 4, 22, 11, 0, 5), datetime.datetime(2017, 1, 28, 1, 53, 6)]\n",
            "Item name : age\n",
            "   Unique content : 21\n",
            "   Content : [38, 24, 20, 39, 33, 40, 22, 34, 36, 28, 25, 29, 32, 35, 21, 37, 31, 23, 26, 30]\n",
            "Item name : gender\n",
            "   Unique content : 2\n",
            "   Content : ['female', 'male']\n",
            "Item name : eyeColor\n",
            "   Unique content : 3\n",
            "   Content : ['blue', 'green', 'brown']\n",
            "Item name : favoriteFruit\n",
            "   Unique content : 3\n",
            "   Content : ['apple', 'strawberry', 'banana']\n",
            "Item name : company\n",
            "   Unique content : 1000\n",
            "   Content : [{'title': 'DIGITALUS', 'email': 'kittysnow@digitalus.com', 'phone': '+1 (949) 568-3470', 'location': {'country': 'Italy', 'address': '154 Arlington Avenue'}}, {'title': 'EXIAND', 'email': 'hayswise@exiand.com', 'phone': '+1 (801) 583-3393', 'location': {'country': 'France', 'address': '795 Borinquen Pl'}}, {'title': 'YURTURE', 'email': 'aureliagonzales@yurture.com', 'phone': '+1 (940) 501-3963', 'location': {'country': 'USA', 'address': '694 Hewes Street'}}, {'title': 'RODEMCO', 'email': 'karynrhodes@rodemco.com', 'phone': '+1 (801) 505-3760', 'location': {'country': 'USA', 'address': '521 Seigel Street'}}, {'title': 'OTHERSIDE', 'email': 'alisonfarmer@otherside.com', 'phone': '+1 (902) 572-3954', 'location': {'country': 'Italy', 'address': '356 Newkirk Placez'}}, {'title': 'SHEPARD', 'email': 'carmellamorse@shepard.com', 'phone': '+1 (829) 478-3744', 'location': {'country': 'Germany', 'address': '379 Tabor Court'}}, {'title': 'OVOLO', 'email': 'gracelarson@ovolo.com', 'phone': '+1 (930) 510-3310', 'location': {'country': 'USA', 'address': '932 Linden Street'}}, {'title': 'ZERBINA', 'email': 'anastasiablake@zerbina.com', 'phone': '+1 (867) 563-3788', 'location': {'country': 'Italy', 'address': '147 Montague Terrace'}}, {'title': 'ISONUS', 'email': 'daleholman@isonus.com', 'phone': '+1 (871) 452-3036', 'location': {'country': 'Italy', 'address': '586 Blake Court'}}, {'title': 'JETSILK', 'email': 'tinabarnett@jetsilk.com', 'phone': '+1 (963) 569-3905', 'location': {'country': 'Germany', 'address': '514 Lefferts Avenue'}}, {'title': 'CANDECOR', 'email': 'morrisonsheppard@candecor.com', 'phone': '+1 (825) 473-3920', 'location': {'country': 'USA', 'address': '585 Wilson Street'}}, {'title': 'JAMNATION', 'email': 'lefarley@jamnation.com', 'phone': '+1 (962) 402-3088', 'location': {'country': 'USA', 'address': '613 Lewis Avenue'}}, {'title': 'COMTRAK', 'email': 'belindazimmerman@comtrak.com', 'phone': '+1 (899) 410-3073', 'location': {'country': 'France', 'address': '259 Bergen Street'}}, {'title': 'PHARMEX', 'email': 'sharongrimes@pharmex.com', 'phone': '+1 (993) 428-2724', 'location': {'country': 'USA', 'address': '427 Dictum Court'}}, {'title': 'BUGSALL', 'email': 'wendysampson@bugsall.com', 'phone': '+1 (822) 433-3614', 'location': {'country': 'France', 'address': '864 Times Placez'}}, {'title': 'AQUAFIRE', 'email': 'santanapreston@aquafire.com', 'phone': '+1 (861) 525-2717', 'location': {'country': 'France', 'address': '133 Bushwick Avenue'}}, {'title': 'INVENTURE', 'email': 'lupebarry@inventure.com', 'phone': '+1 (932) 434-2270', 'location': {'country': 'USA', 'address': '244 Cleveland Street'}}, {'title': 'PHARMACON', 'email': 'newmanrodriquez@pharmacon.com', 'phone': '+1 (906) 591-2086', 'location': {'country': 'France', 'address': '624 Madeline Court'}}, {'title': 'PARAGONIA', 'email': 'mablepratt@paragonia.com', 'phone': '+1 (875) 523-3825', 'location': {'country': 'USA', 'address': '767 Hendrix Street'}}, {'title': 'ELENTRIX', 'email': 'mcguirevincent@elentrix.com', 'phone': '+1 (924) 572-3321', 'location': {'country': 'USA', 'address': '347 Sandford Street'}}]\n",
            "Item name : tags\n",
            "   Unique content : 62\n",
            "   Content : ['consequat', 'ut', 'voluptate', 'ad', 'amet', 'elit', 'ipsum', 'enim', 'id', 'velit', 'cillum', 'excepteur', 'exercitation', 'deserunt', 'dolor', 'duis', 'et', 'fugiat', 'minim', 'Lorem']\n"
          ],
          "name": "stdout"
        }
      ]
    },
    {
      "metadata": {
        "id": "pCmpA_Cd69cF",
        "colab_type": "code",
        "outputId": "bae16a0a-0ed6-4107-aa32-47b836e1c554",
        "colab": {
          "base_uri": "https://localhost:8080/",
          "height": 274
        }
      },
      "cell_type": "code",
      "source": [
        "## We can list one document\n",
        "list ( collection.find().limit(1) )"
      ],
      "execution_count": 21,
      "outputs": [
        {
          "output_type": "execute_result",
          "data": {
            "text/plain": [
              "[{'_id': ObjectId('5bf536410f50e03768521ee8'),\n",
              "  'age': 38,\n",
              "  'company': {'email': 'kittysnow@digitalus.com',\n",
              "   'location': {'address': '154 Arlington Avenue', 'country': 'Italy'},\n",
              "   'phone': '+1 (949) 568-3470',\n",
              "   'title': 'DIGITALUS'},\n",
              "  'eyeColor': 'blue',\n",
              "  'favoriteFruit': 'apple',\n",
              "  'gender': 'female',\n",
              "  'index': 1,\n",
              "  'isActive': False,\n",
              "  'name': 'Kitty Snow',\n",
              "  'registered': datetime.datetime(2018, 1, 23, 4, 46, 15),\n",
              "  'tags': ['ut', 'voluptate', 'consequat', 'consequat']}]"
            ]
          },
          "metadata": {
            "tags": []
          },
          "execution_count": 21
        }
      ]
    },
    {
      "metadata": {
        "id": "FVB8FcgQz8ok",
        "colab_type": "text"
      },
      "cell_type": "markdown",
      "source": [
        "#3. Create Read Update Delete - Part 2"
      ]
    },
    {
      "metadata": {
        "id": "oseJcRsuCr62",
        "colab_type": "text"
      },
      "cell_type": "markdown",
      "source": [
        "##3.1 Adding and delete attributes"
      ]
    },
    {
      "metadata": {
        "id": "HNcAfkv4z4ws",
        "colab_type": "text"
      },
      "cell_type": "markdown",
      "source": [
        "### Add new atribute to your collection"
      ]
    },
    {
      "metadata": {
        "id": "2g1SpJ-BzzHJ",
        "colab_type": "code",
        "outputId": "b6829b66-7305-4d25-afca-69084db35754",
        "colab": {
          "base_uri": "https://localhost:8080/",
          "height": 34
        }
      },
      "cell_type": "code",
      "source": [
        "collection.update_many( {\"age\" :{ \"$gte\" :0 }}, {\"$set\" : { \"favoriteColor\" : \"red\" }})"
      ],
      "execution_count": 0,
      "outputs": [
        {
          "output_type": "execute_result",
          "data": {
            "text/plain": [
              "<pymongo.results.UpdateResult at 0x7fad2ade2e08>"
            ]
          },
          "metadata": {
            "tags": []
          },
          "execution_count": 29
        }
      ]
    },
    {
      "metadata": {
        "id": "B7ydDtKm1xmW",
        "colab_type": "code",
        "outputId": "eafb4d45-8384-4e13-8151-1851b036ab44",
        "colab": {
          "base_uri": "https://localhost:8080/",
          "height": 34
        }
      },
      "cell_type": "code",
      "source": [
        "collection.update_many( {\"age\" :{ \"$nin\" : [\"\"] }}, {\"$set\" : { \"favoriteBook\" : \"Harry Potter\" }})"
      ],
      "execution_count": 0,
      "outputs": [
        {
          "output_type": "execute_result",
          "data": {
            "text/plain": [
              "<pymongo.results.UpdateResult at 0x7fad2ade22c8>"
            ]
          },
          "metadata": {
            "tags": []
          },
          "execution_count": 30
        }
      ]
    },
    {
      "metadata": {
        "id": "ONVxD_i4XX5n",
        "colab_type": "code",
        "outputId": "52b55135-34c8-44a0-bb43-5396251d3e39",
        "colab": {
          "base_uri": "https://localhost:8080/",
          "height": 86
        }
      },
      "cell_type": "code",
      "source": [
        "list(collection.find({\"age\" : 20} , {\"favoriteColor\",\"favoriteBook\", \"name\",\"age\"}).limit(1))"
      ],
      "execution_count": 0,
      "outputs": [
        {
          "output_type": "execute_result",
          "data": {
            "text/plain": [
              "[{'_id': ObjectId('5bf1b58d85cb96520a4ac106'),\n",
              "  'age': 20,\n",
              "  'favoriteBook': 'Harry Potter',\n",
              "  'name': 'Aurelia Gonzales'}]"
            ]
          },
          "metadata": {
            "tags": []
          },
          "execution_count": 33
        }
      ]
    },
    {
      "metadata": {
        "id": "MrqAqs8Izbb1",
        "colab_type": "text"
      },
      "cell_type": "markdown",
      "source": [
        "### Delete attribute and data"
      ]
    },
    {
      "metadata": {
        "id": "Nsleuwf9HGXt",
        "colab_type": "code",
        "outputId": "6447227f-7eb4-4228-9348-344e653d10f4",
        "colab": {
          "base_uri": "https://localhost:8080/",
          "height": 34
        }
      },
      "cell_type": "code",
      "source": [
        "## Deprecated   collection.update( {\"age\" :{ \"$gte\" :0 }}, {\"$unset\" :{ \"favoriteColor\" :1 }}, {multi :1})\n",
        "collection.update_many( {\"age\" :{ \"$gte\" :0 }}, {\"$unset\" :{ \"favoriteColor\" :1 , \"favoriteBook\" :1}})"
      ],
      "execution_count": 0,
      "outputs": [
        {
          "output_type": "execute_result",
          "data": {
            "text/plain": [
              "<pymongo.results.UpdateResult at 0x7fad2ade2c88>"
            ]
          },
          "metadata": {
            "tags": []
          },
          "execution_count": 34
        }
      ]
    },
    {
      "metadata": {
        "id": "YHGXezyMFA9d",
        "colab_type": "code",
        "outputId": "20f67de9-d2e2-45c3-ca6c-2868a4b55ea1",
        "colab": {
          "base_uri": "https://localhost:8080/",
          "height": 69
        }
      },
      "cell_type": "code",
      "source": [
        "list(collection.find({\"age\" : 20} , {\"favoriteColor\",\"favoriteBook\", \"name\",\"age\"}).limit(1))"
      ],
      "execution_count": 0,
      "outputs": [
        {
          "output_type": "execute_result",
          "data": {
            "text/plain": [
              "[{'_id': ObjectId('5bf1b58d85cb96520a4ac106'),\n",
              "  'age': 20,\n",
              "  'name': 'Aurelia Gonzales'}]"
            ]
          },
          "metadata": {
            "tags": []
          },
          "execution_count": 36
        }
      ]
    },
    {
      "metadata": {
        "id": "BCZnyZurC0Zr",
        "colab_type": "text"
      },
      "cell_type": "markdown",
      "source": [
        "##3.2 Data visualization and Queries"
      ]
    },
    {
      "metadata": {
        "id": "-B0Z09foBVAt",
        "colab_type": "text"
      },
      "cell_type": "markdown",
      "source": [
        "###3.2.1 Visualization of attribute names  -  first level"
      ]
    },
    {
      "metadata": {
        "id": "bYBiWQdwAnNp",
        "colab_type": "code",
        "outputId": "f9d59745-c2ef-4a5e-e0b9-a652c5bd5afb",
        "colab": {
          "base_uri": "https://localhost:8080/",
          "height": 35
        }
      },
      "cell_type": "code",
      "source": [
        "print (list (collection.find({\"age\" : 38, \"gender\" : 'female'}).limit(1)[1]))"
      ],
      "execution_count": 22,
      "outputs": [
        {
          "output_type": "stream",
          "text": [
            "['_id', 'index', 'name', 'isActive', 'registered', 'age', 'gender', 'eyeColor', 'favoriteFruit', 'company', 'tags']\n"
          ],
          "name": "stdout"
        }
      ]
    },
    {
      "metadata": {
        "id": "qKdVg4eQfhyM",
        "colab_type": "text"
      },
      "cell_type": "markdown",
      "source": [
        "###3.2.2 Visualization of attribute unique content (sorted)"
      ]
    },
    {
      "metadata": {
        "id": "ZDmmYJlffWtm",
        "colab_type": "code",
        "outputId": "2fc68197-58d7-4279-bc5d-4d35fcaff84e",
        "colab": {
          "base_uri": "https://localhost:8080/",
          "height": 54
        }
      },
      "cell_type": "code",
      "source": [
        "query = collection.distinct( \"age\" )\n",
        "print (\"Age :\" + str( sorted( query ) ))\n",
        "\n",
        "query = collection.distinct( \"gender\" ) \n",
        "print (\"Gender :\" + str( sorted( query ) ))"
      ],
      "execution_count": 30,
      "outputs": [
        {
          "output_type": "stream",
          "text": [
            "Age :[20, 21, 22, 23, 24, 25, 26, 27, 28, 29, 30, 31, 32, 33, 34, 35, 36, 37, 38, 39, 40]\n",
            "Gender :['female', 'male']\n"
          ],
          "name": "stdout"
        }
      ]
    },
    {
      "metadata": {
        "id": "goQul0oY7iK0",
        "colab_type": "text"
      },
      "cell_type": "markdown",
      "source": [
        "- Exercise:  Check the unique eye colors and favorite fruit\n",
        "\n",
        "      hint: attributes =  eyeColor and favoriteFruit"
      ]
    },
    {
      "metadata": {
        "id": "5bqpKccOf4_7",
        "colab_type": "code",
        "colab": {}
      },
      "cell_type": "code",
      "source": [
        ""
      ],
      "execution_count": 0,
      "outputs": []
    },
    {
      "metadata": {
        "id": "hU8Dyjid5Tqz",
        "colab_type": "text"
      },
      "cell_type": "markdown",
      "source": [
        "###3.2.3 Find document by id"
      ]
    },
    {
      "metadata": {
        "id": "cbfa0sJ8FCWB",
        "colab_type": "code",
        "outputId": "f6014883-8e8f-4dea-9cd5-951340b6390f",
        "colab": {
          "base_uri": "https://localhost:8080/",
          "height": 35
        }
      },
      "cell_type": "code",
      "source": [
        "# Get the id of existing document\n",
        "\n",
        "documents = collection.find( {\"_id\": {\"$exists\": True}} , ['name','age']).limit(1)\n",
        "\n",
        "itemId = \"\"\n",
        "for item in documents:\n",
        "  itemId = str( item['_id'] )\n",
        "\n",
        "print (itemId) "
      ],
      "execution_count": 57,
      "outputs": [
        {
          "output_type": "stream",
          "text": [
            "5bf536410f50e03768521ee8\n"
          ],
          "name": "stdout"
        }
      ]
    },
    {
      "metadata": {
        "id": "h6Wvk_oxRxU7",
        "colab_type": "code",
        "colab": {}
      },
      "cell_type": "code",
      "source": [
        "# First import objectid object\n",
        "from bson.objectid import ObjectId"
      ],
      "execution_count": 0,
      "outputs": []
    },
    {
      "metadata": {
        "id": "AjwbKXQZSJVs",
        "colab_type": "code",
        "outputId": "80fac1f7-7e56-4a18-be65-63563ce6f405",
        "colab": {
          "base_uri": "https://localhost:8080/",
          "height": 109
        }
      },
      "cell_type": "code",
      "source": [
        "list(collection.find({\"_id\": ObjectId( itemId )} , ['name','age','favoriteFruit','company.email']))   ##  reading second level attribute 'email'"
      ],
      "execution_count": 59,
      "outputs": [
        {
          "output_type": "execute_result",
          "data": {
            "text/plain": [
              "[{'_id': ObjectId('5bf536410f50e03768521ee8'),\n",
              "  'age': 38,\n",
              "  'company': {'email': 'kittysnow@digitalus.com'},\n",
              "  'favoriteFruit': 'apple',\n",
              "  'name': 'Kitty Snow'}]"
            ]
          },
          "metadata": {
            "tags": []
          },
          "execution_count": 59
        }
      ]
    },
    {
      "metadata": {
        "id": "kjKHdKVaDkzO",
        "colab_type": "text"
      },
      "cell_type": "markdown",
      "source": [
        "###3.2.4 Filter by fields"
      ]
    },
    {
      "metadata": {
        "id": "2B95WfRVDnxs",
        "colab_type": "code",
        "outputId": "62c331e8-6656-43d0-8568-90f73a66fcbd",
        "colab": {
          "base_uri": "https://localhost:8080/",
          "height": 109
        }
      },
      "cell_type": "code",
      "source": [
        "# collection.find(  FILTER_CONDITION   ,  FIELDS_to_retreive )\n",
        "# FIELDS      1 field:      string\n",
        "#             more than 1 : a list [] \n",
        "\n",
        "filters = {\"isActive\": True}\n",
        "fields = ['name','age', 'isActive','company.email']\n",
        "\n",
        "list(collection.find( filters , fields ).limit(1))"
      ],
      "execution_count": 63,
      "outputs": [
        {
          "output_type": "execute_result",
          "data": {
            "text/plain": [
              "[{'_id': ObjectId('5bf536410f50e03768521eeb'),\n",
              "  'age': 39,\n",
              "  'company': {'email': 'karynrhodes@rodemco.com'},\n",
              "  'isActive': True,\n",
              "  'name': 'Karyn Rhodes'}]"
            ]
          },
          "metadata": {
            "tags": []
          },
          "execution_count": 63
        }
      ]
    },
    {
      "metadata": {
        "id": "QCOAMgEj-S3J",
        "colab_type": "code",
        "outputId": "8610cc04-a609-4c97-83d3-e9be89b34aa1",
        "colab": {
          "base_uri": "https://localhost:8080/",
          "height": 35
        }
      },
      "cell_type": "code",
      "source": [
        "print( collection.count_documents( filters ) )"
      ],
      "execution_count": 64,
      "outputs": [
        {
          "output_type": "stream",
          "text": [
            "516\n"
          ],
          "name": "stdout"
        }
      ]
    },
    {
      "metadata": {
        "id": "dxa_7mvJBDgD",
        "colab_type": "code",
        "colab": {
          "base_uri": "https://localhost:8080/",
          "height": 54
        },
        "outputId": "aab2b25d-e8da-41b1-c92f-0705b43162b3"
      },
      "cell_type": "code",
      "source": [
        "# Multiple filters\n",
        "\n",
        "filters = {\"$or\": [{\"age\" : 28}, {\"age\" : 29}] , \"gender\" : 'female'}\n",
        "\n",
        "print( collection.count_documents ( filters ) ) # count in Mongo the found documents \n",
        "print( len (list (collection.find( filters ))) ) # count in Python the found documents"
      ],
      "execution_count": 73,
      "outputs": [
        {
          "output_type": "stream",
          "text": [
            "36\n",
            "36\n"
          ],
          "name": "stdout"
        }
      ]
    },
    {
      "metadata": {
        "id": "rXLzbIxpQUon",
        "colab_type": "text"
      },
      "cell_type": "markdown",
      "source": [
        "###3.2.5 Find by regex ( name starts with ' Ki* ')"
      ]
    },
    {
      "metadata": {
        "id": "FYQh4y5vQT4b",
        "colab_type": "code",
        "outputId": "3efa6e28-a2a0-4716-b4dc-84cd6887bcc7",
        "colab": {
          "base_uri": "https://localhost:8080/",
          "height": 164
        }
      },
      "cell_type": "code",
      "source": [
        "import re\n",
        "regex = re.compile('^Ki', re.IGNORECASE)\n",
        "\n",
        "# find documents which ssn starts with Ki\n",
        "\n",
        "filters = { 'name' : regex }\n",
        "fields = { '_id' : 0, 'name' : 1, 'isActive' : 1, 'age' : 1 }     #  Hide _id in reply  \n",
        "\n",
        "list ( collection.find( filters , fields ) )"
      ],
      "execution_count": 76,
      "outputs": [
        {
          "output_type": "execute_result",
          "data": {
            "text/plain": [
              "[{'age': 38, 'isActive': False, 'name': 'Kitty Snow'},\n",
              " {'age': 20, 'isActive': True, 'name': 'Kimberly House'},\n",
              " {'age': 34, 'isActive': False, 'name': 'Kirk Walsh'},\n",
              " {'age': 21, 'isActive': True, 'name': 'Kirby Buckley'},\n",
              " {'age': 22, 'isActive': True, 'name': 'Kinney Wynn'},\n",
              " {'age': 38, 'isActive': True, 'name': 'Kirkland Buckner'},\n",
              " {'age': 40, 'isActive': True, 'name': 'Kidd Arnold'},\n",
              " {'age': 22, 'isActive': False, 'name': 'Kimberley Chase'}]"
            ]
          },
          "metadata": {
            "tags": []
          },
          "execution_count": 76
        }
      ]
    },
    {
      "metadata": {
        "id": "IjBzl57eE8I4",
        "colab_type": "text"
      },
      "cell_type": "markdown",
      "source": [
        "###3.2.6 Sort query Ascending"
      ]
    },
    {
      "metadata": {
        "id": "19KqVWt346Ws",
        "colab_type": "code",
        "outputId": "23e02946-e963-43be-cef2-1ac92663f77c",
        "colab": {
          "base_uri": "https://localhost:8080/",
          "height": 164
        }
      },
      "cell_type": "code",
      "source": [
        "# Ascending\n",
        "list ( collection.find( filters , fields ).sort('age', pymongo.ASCENDING) )"
      ],
      "execution_count": 77,
      "outputs": [
        {
          "output_type": "execute_result",
          "data": {
            "text/plain": [
              "[{'age': 20, 'isActive': True, 'name': 'Kimberly House'},\n",
              " {'age': 21, 'isActive': True, 'name': 'Kirby Buckley'},\n",
              " {'age': 22, 'isActive': True, 'name': 'Kinney Wynn'},\n",
              " {'age': 22, 'isActive': False, 'name': 'Kimberley Chase'},\n",
              " {'age': 34, 'isActive': False, 'name': 'Kirk Walsh'},\n",
              " {'age': 38, 'isActive': False, 'name': 'Kitty Snow'},\n",
              " {'age': 38, 'isActive': True, 'name': 'Kirkland Buckner'},\n",
              " {'age': 40, 'isActive': True, 'name': 'Kidd Arnold'}]"
            ]
          },
          "metadata": {
            "tags": []
          },
          "execution_count": 77
        }
      ]
    },
    {
      "metadata": {
        "id": "VL659_S6FNRe",
        "colab_type": "code",
        "outputId": "50f734d9-5ba3-440a-880a-fdb8713916f6",
        "colab": {
          "base_uri": "https://localhost:8080/",
          "height": 164
        }
      },
      "cell_type": "code",
      "source": [
        "# Descending \n",
        "list ( collection.find( filters , fields ).sort('age', pymongo.DESCENDING) )"
      ],
      "execution_count": 80,
      "outputs": [
        {
          "output_type": "execute_result",
          "data": {
            "text/plain": [
              "[{'age': 40, 'isActive': True, 'name': 'Kidd Arnold'},\n",
              " {'age': 38, 'isActive': False, 'name': 'Kitty Snow'},\n",
              " {'age': 38, 'isActive': True, 'name': 'Kirkland Buckner'},\n",
              " {'age': 34, 'isActive': False, 'name': 'Kirk Walsh'},\n",
              " {'age': 22, 'isActive': True, 'name': 'Kinney Wynn'},\n",
              " {'age': 22, 'isActive': False, 'name': 'Kimberley Chase'},\n",
              " {'age': 21, 'isActive': True, 'name': 'Kirby Buckley'},\n",
              " {'age': 20, 'isActive': True, 'name': 'Kimberly House'}]"
            ]
          },
          "metadata": {
            "tags": []
          },
          "execution_count": 80
        }
      ]
    },
    {
      "metadata": {
        "id": "nFOnWkY8VhNJ",
        "colab_type": "text"
      },
      "cell_type": "markdown",
      "source": [
        "#4. Comparison Query Operators & Count"
      ]
    },
    {
      "metadata": {
        "id": "4IVJGoRa6a6f",
        "colab_type": "text"
      },
      "cell_type": "markdown",
      "source": [
        "###4.1 Count documents with \"age\"    equal   to 38"
      ]
    },
    {
      "metadata": {
        "id": "oO11VaKO6BXq",
        "colab_type": "code",
        "colab": {}
      },
      "cell_type": "code",
      "source": [
        "collection.count_documents({\"age\": 38})\n",
        "# the previous method was : collection.find({\"age\": 38}).count()  (deprecated)"
      ],
      "execution_count": 0,
      "outputs": []
    },
    {
      "metadata": {
        "id": "uq66cGpU60EK",
        "colab_type": "text"
      },
      "cell_type": "markdown",
      "source": [
        "###4.2 Count documents with numbers :  \"greater than or equal\", \"greater than\",  \"equal\", \"little than\", \"little than or equal\""
      ]
    },
    {
      "metadata": {
        "id": "-5PaqRjJ6ZjM",
        "colab_type": "code",
        "colab": {
          "base_uri": "https://localhost:8080/",
          "height": 35
        },
        "outputId": "47350696-f1e2-4af5-e4b6-5e1a52696212"
      },
      "cell_type": "code",
      "source": [
        "collection.count_documents({\"age\": {\"$gte\" : 38}})"
      ],
      "execution_count": 88,
      "outputs": [
        {
          "output_type": "execute_result",
          "data": {
            "text/plain": [
              "152"
            ]
          },
          "metadata": {
            "tags": []
          },
          "execution_count": 88
        }
      ]
    },
    {
      "metadata": {
        "id": "kjqjDOAf6vhA",
        "colab_type": "code",
        "colab": {
          "base_uri": "https://localhost:8080/",
          "height": 35
        },
        "outputId": "ef5c5557-658b-4087-cdfc-bd1d6b5aa677"
      },
      "cell_type": "code",
      "source": [
        "collection.count_documents({\"age\": {\"$gt\" : 38}})"
      ],
      "execution_count": 89,
      "outputs": [
        {
          "output_type": "execute_result",
          "data": {
            "text/plain": [
              "103"
            ]
          },
          "metadata": {
            "tags": []
          },
          "execution_count": 89
        }
      ]
    },
    {
      "metadata": {
        "id": "JoIWXeht7EJT",
        "colab_type": "code",
        "colab": {
          "base_uri": "https://localhost:8080/",
          "height": 35
        },
        "outputId": "9e14badc-26db-4eba-e332-1b8c65b3cf9f"
      },
      "cell_type": "code",
      "source": [
        "collection.count_documents({\"age\": {\"$eq\" : 38}})"
      ],
      "execution_count": 90,
      "outputs": [
        {
          "output_type": "execute_result",
          "data": {
            "text/plain": [
              "49"
            ]
          },
          "metadata": {
            "tags": []
          },
          "execution_count": 90
        }
      ]
    },
    {
      "metadata": {
        "id": "fArwG9wv7SL5",
        "colab_type": "code",
        "colab": {}
      },
      "cell_type": "code",
      "source": [
        "collection.count_documents({\"age\": {\"$lt\" : 38}})"
      ],
      "execution_count": 0,
      "outputs": []
    },
    {
      "metadata": {
        "id": "guyer5FL7VKd",
        "colab_type": "code",
        "colab": {}
      },
      "cell_type": "code",
      "source": [
        "collection.count_documents({\"age\": {\"$lte\" : 38}})"
      ],
      "execution_count": 0,
      "outputs": []
    },
    {
      "metadata": {
        "id": "pE8zIlUapqhr",
        "colab_type": "code",
        "colab": {}
      },
      "cell_type": "code",
      "source": [
        "collection.count_documents({\"age\": {\"$gte\" : 0 }})"
      ],
      "execution_count": 0,
      "outputs": []
    },
    {
      "metadata": {
        "id": "v7KN_i-9BHhV",
        "colab_type": "code",
        "colab": {}
      },
      "cell_type": "code",
      "source": [
        "collection.count_documents({\"age\" : { \"$nin\" : [\"\"] } })"
      ],
      "execution_count": 0,
      "outputs": []
    },
    {
      "metadata": {
        "id": "0Oan8p1u7X3d",
        "colab_type": "code",
        "colab": {}
      },
      "cell_type": "code",
      "source": [
        "collection.find().count()"
      ],
      "execution_count": 0,
      "outputs": []
    },
    {
      "metadata": {
        "id": "0DJ4BCpy8F-V",
        "colab_type": "text"
      },
      "cell_type": "markdown",
      "source": [
        "###4.3 Count documents with letters :  \"greater than or equal\"  or  \"little than or equal\""
      ]
    },
    {
      "metadata": {
        "id": "7A2NRTA57bt5",
        "colab_type": "code",
        "colab": {
          "base_uri": "https://localhost:8080/",
          "height": 35
        },
        "outputId": "2b30b382-ec6e-42cf-d089-196215c8a057"
      },
      "cell_type": "code",
      "source": [
        "# Da el mismo resultado gte que gt \n",
        "collection.count_documents({\"name\": {\"$gt\" : \"B\" }})"
      ],
      "execution_count": 93,
      "outputs": [
        {
          "output_type": "execute_result",
          "data": {
            "text/plain": [
              "944"
            ]
          },
          "metadata": {
            "tags": []
          },
          "execution_count": 93
        }
      ]
    },
    {
      "metadata": {
        "id": "vU6P6cNq8LEr",
        "colab_type": "code",
        "colab": {
          "base_uri": "https://localhost:8080/",
          "height": 35
        },
        "outputId": "caa5b0ac-ac74-414c-8bef-6a87ee0ed99a"
      },
      "cell_type": "code",
      "source": [
        "# Da el mismo resultado lte que lt \n",
        "collection.count_documents({\"name\": {\"$lt\" : \"B\" }})"
      ],
      "execution_count": 94,
      "outputs": [
        {
          "output_type": "execute_result",
          "data": {
            "text/plain": [
              "56"
            ]
          },
          "metadata": {
            "tags": []
          },
          "execution_count": 94
        }
      ]
    },
    {
      "metadata": {
        "id": "I4tTBahr8NU5",
        "colab_type": "code",
        "colab": {}
      },
      "cell_type": "code",
      "source": [
        "# Como es con D ?\n",
        "\n",
        "collection.count_documents({\"name\": '/B/' })"
      ],
      "execution_count": 0,
      "outputs": []
    },
    {
      "metadata": {
        "id": "hry7UXKDKWAc",
        "colab_type": "text"
      },
      "cell_type": "markdown",
      "source": [
        "### Visualize MAXIMUM and MINIMUM content"
      ]
    },
    {
      "metadata": {
        "id": "8ETZfdDhKeKq",
        "colab_type": "code",
        "colab": {}
      },
      "cell_type": "code",
      "source": [
        "max( collection.distinct( \"age\" )) "
      ],
      "execution_count": 0,
      "outputs": []
    },
    {
      "metadata": {
        "id": "CLepC0YELHhq",
        "colab_type": "code",
        "colab": {}
      },
      "cell_type": "code",
      "source": [
        "min( collection.distinct( \"age\" )) "
      ],
      "execution_count": 0,
      "outputs": []
    },
    {
      "metadata": {
        "id": "RzWzJOeoMMFs",
        "colab_type": "code",
        "colab": {}
      },
      "cell_type": "code",
      "source": [
        "agemale = collection.find({\"gender\" : 'male'}).distinct( \"age\" )\n",
        "agefemale = collection.find({\"gender\" : 'female'}).distinct( \"age\")\n",
        "\n",
        "print ('Male -  Min age: ' + str(min(agemale)) + ' and Max age: ' + str(max(agemale)))\n",
        "print ('Female -  Min age: ' + str(min(agefemale)) + ' and Max age: ' + str(max(agefemale)))"
      ],
      "execution_count": 0,
      "outputs": []
    },
    {
      "metadata": {
        "id": "DoZyF60WH2eV",
        "colab_type": "text"
      },
      "cell_type": "markdown",
      "source": [
        "### Operators  IN and  NIN"
      ]
    },
    {
      "metadata": {
        "id": "c2JSgNRWHJv1",
        "colab_type": "code",
        "colab": {}
      },
      "cell_type": "code",
      "source": [
        "## Deprecated \n",
        "# print( collection.find( {\"name\" : { \"$in\": ['Mercado Riddle', \"Kitty Snow\" ] }} ).count())\n",
        "# print( collection.find( {\"name\" : { \"$nin\": ['Mercado Riddle', \"Kitty Snow\" ] }} ).count())"
      ],
      "execution_count": 0,
      "outputs": []
    },
    {
      "metadata": {
        "id": "5eooh_CVFsob",
        "colab_type": "code",
        "colab": {}
      },
      "cell_type": "code",
      "source": [
        "print( collection.count_documents( { \"name\" : { \"$in\": ['Mercado Riddle', \"Kitty Snow\" ] }} ))    # includes the names in count\n",
        "print( collection.count_documents( { \"name\" : { \"$nin\": ['Mercado Riddle', \"Kitty Snow\" ] }} ))   # excludes the names in count"
      ],
      "execution_count": 0,
      "outputs": []
    },
    {
      "metadata": {
        "id": "HLqK5JoeD2kc",
        "colab_type": "code",
        "colab": {}
      },
      "cell_type": "code",
      "source": [
        "list( collection.find( { \"name\" : { \"$in\": ['Mercado Riddle', \"Kitty Snow\" ] }}, ''))      # includes the names in find"
      ],
      "execution_count": 0,
      "outputs": []
    },
    {
      "metadata": {
        "id": "B8hrUEYfVcJq",
        "colab_type": "text"
      },
      "cell_type": "markdown",
      "source": [
        "# Logical Query Operators"
      ]
    },
    {
      "metadata": {
        "id": "KSxdl_P6Eumx",
        "colab_type": "text"
      },
      "cell_type": "markdown",
      "source": [
        "### AND"
      ]
    },
    {
      "metadata": {
        "id": "PmBUPuwyYbHa",
        "colab_type": "code",
        "colab": {}
      },
      "cell_type": "code",
      "source": [
        "list ( collection.find({\n",
        "                        \"$and\":[\n",
        "                            {\"name\" : \"Kitty Snow\"},\n",
        "                            {\"age\": 38}]\n",
        "                       }, '') # ,'' --> Muestra del ID\n",
        "     )"
      ],
      "execution_count": 0,
      "outputs": []
    },
    {
      "metadata": {
        "id": "6zEjjJOfW9Bo",
        "colab_type": "text"
      },
      "cell_type": "markdown",
      "source": [
        "### OR"
      ]
    },
    {
      "metadata": {
        "id": "c2cwq1CBXCCH",
        "colab_type": "code",
        "colab": {}
      },
      "cell_type": "code",
      "source": [
        "print ( collection.find({\n",
        "                          \"$or\":[\n",
        "                              {\"age\" : 28}, \n",
        "                              {\"age\" : 29}]\n",
        "                        }, '').count()     # ,'' --> Muestra del ID\n",
        "      )"
      ],
      "execution_count": 0,
      "outputs": []
    },
    {
      "metadata": {
        "id": "KMnrvAscZpV5",
        "colab_type": "text"
      },
      "cell_type": "markdown",
      "source": [
        "###AND & OR"
      ]
    },
    {
      "metadata": {
        "id": "4j6Jg7lOBNcl",
        "colab_type": "code",
        "colab": {}
      },
      "cell_type": "code",
      "source": [
        "list ( collection.find({\n",
        "            \"$and\":[\n",
        "                    {\"$or\":[\n",
        "                         {\"name\" : \"Kitty Snow\"}, \n",
        "                         {\"name\" : 'Mercado Riddle'}\n",
        "                    ]},\n",
        "                    {\"age\": 38}\n",
        "              ]}, '' )   # ,'' --> Muestra del ID \n",
        "     )"
      ],
      "execution_count": 0,
      "outputs": []
    },
    {
      "metadata": {
        "id": "T6wSFkCNW3hx",
        "colab_type": "text"
      },
      "cell_type": "markdown",
      "source": [
        "# Exists & not exists"
      ]
    },
    {
      "metadata": {
        "id": "xt5JX0dFGAHj",
        "colab_type": "code",
        "colab": {}
      },
      "cell_type": "code",
      "source": [
        "# Counts documents with attribute 'age'\n",
        "\n",
        "# print(collection.find({'age' : {'$exists' : 1}}).count())   ## Count is deprecated. Use Collection.count_documents instead.\n",
        "print(collection.count_documents({'_id' : {'$exists' : 1}}))"
      ],
      "execution_count": 0,
      "outputs": []
    },
    {
      "metadata": {
        "id": "_mreGnDbHBz7",
        "colab_type": "code",
        "colab": {}
      },
      "cell_type": "code",
      "source": [
        "import datetime\n",
        "collection.insert_one( {\n",
        "  'company': {'email': 'jordigonzalez@yurture.com',\n",
        "   'location': {'address': '694 Hewes Street', 'country': 'USA'},\n",
        "   'phone': '+1 (940) 501-3963',\n",
        "   'title': 'YURTURE'},\n",
        "  'eyeColor': 'green',\n",
        "  'favoriteFruit': 'banana',\n",
        "  'gender': 'male',\n",
        "  'index': 0,\n",
        "  'isActive': False,\n",
        "  'name': 'Jordi Gonzalez',\n",
        "  'registered': datetime.datetime(2015, 2, 11, 4, 22, 39),\n",
        "  'tags': ['enim', 'id', 'velit', 'ad', 'consequat']\n",
        "})"
      ],
      "execution_count": 0,
      "outputs": []
    },
    {
      "metadata": {
        "id": "jHcv2aOuGpXr",
        "colab_type": "code",
        "colab": {}
      },
      "cell_type": "code",
      "source": [
        "# Counts documents without attribute 'age'\n",
        "print(collection.count_documents({'age' : {'$exists' : 0}}))"
      ],
      "execution_count": 0,
      "outputs": []
    },
    {
      "metadata": {
        "id": "gny-9jBSI3di",
        "colab_type": "text"
      },
      "cell_type": "markdown",
      "source": [
        "## Delete one or multiple items by ID"
      ]
    },
    {
      "metadata": {
        "id": "u6SAsAmjI36q",
        "colab_type": "code",
        "colab": {}
      },
      "cell_type": "code",
      "source": [
        "to_delete = list(collection.find({'company.email' : 'jordigonzalez@yurture.com'}, '_id'))\n",
        "len(to_delete)"
      ],
      "execution_count": 0,
      "outputs": []
    },
    {
      "metadata": {
        "id": "efjZP66yKYRD",
        "colab_type": "code",
        "colab": {}
      },
      "cell_type": "code",
      "source": [
        "i=0\n",
        "for doc in to_delete:\n",
        "  id = doc.get('_id')\n",
        "  collection.delete_one({'_id': id})\n",
        "  i +=1\n",
        "  print(\"Deleted \" + str(i))"
      ],
      "execution_count": 0,
      "outputs": []
    },
    {
      "metadata": {
        "id": "OiAkbDMeHann",
        "colab_type": "text"
      },
      "cell_type": "markdown",
      "source": [
        "# List items that belong to a list or not"
      ]
    },
    {
      "metadata": {
        "id": "rsgwuiq0H7XL",
        "colab_type": "code",
        "colab": {}
      },
      "cell_type": "code",
      "source": [
        "# Count documents with age equal to 28, 29 or 30\n",
        "print(collection.count_documents({'age' : {'$in': [ 28, 29, 30]}}))"
      ],
      "execution_count": 0,
      "outputs": []
    },
    {
      "metadata": {
        "id": "FrESseVVHa6i",
        "colab_type": "code",
        "colab": {}
      },
      "cell_type": "code",
      "source": [
        "# Count documents with age different to 28, 29 or 30\n",
        "print(collection.count_documents({'age' : {'$nin': [ 28, 29, 30]}}))"
      ],
      "execution_count": 0,
      "outputs": []
    },
    {
      "metadata": {
        "id": "tenDYKRuITJP",
        "colab_type": "code",
        "colab": {}
      },
      "cell_type": "code",
      "source": [
        "# Count documents with favorite fruit different to banana and apple\n",
        "print(collection.count_documents({'favoriteFruit' : {'$nin': [ 'banana', 'apple']}}))\n"
      ],
      "execution_count": 0,
      "outputs": []
    },
    {
      "metadata": {
        "id": "sVCQWvDFGAnt",
        "colab_type": "text"
      },
      "cell_type": "markdown",
      "source": [
        "# Indexes"
      ]
    },
    {
      "metadata": {
        "id": "hzB3My5aWrlM",
        "colab_type": "text"
      },
      "cell_type": "markdown",
      "source": [
        "### Create index in Background"
      ]
    },
    {
      "metadata": {
        "id": "2nLBUzdNXCgu",
        "colab_type": "code",
        "colab": {}
      },
      "cell_type": "code",
      "source": [
        "# MONGO    collection.create_index({\"name\":1}, {\"unique\": True} )\n",
        "collection.create_index([( \"age\" , pymongo.ASCENDING)])"
      ],
      "execution_count": 0,
      "outputs": []
    },
    {
      "metadata": {
        "id": "QDq-ETo2g_oN",
        "colab_type": "code",
        "colab": {}
      },
      "cell_type": "code",
      "source": [
        "# MONGO    db.people.createIndex({age:1},{name: \"customAgeIndex\"})"
      ],
      "execution_count": 0,
      "outputs": []
    },
    {
      "metadata": {
        "id": "jPX_rp1qaq_P",
        "colab_type": "text"
      },
      "cell_type": "markdown",
      "source": [
        "# Modify type of attribute in all documents"
      ]
    },
    {
      "metadata": {
        "id": "IlYsVf-Hapt5",
        "colab_type": "code",
        "colab": {}
      },
      "cell_type": "code",
      "source": [
        "from bson.code import Code\n",
        "\n",
        "mapper = Code(\"\"\"\n",
        "               function () {\n",
        "                 this.age.forEach(function(z) {\n",
        "                   emit(z);\n",
        "                 });\n",
        "               }\n",
        "               \"\"\")\n",
        "\n",
        "modification = Code(\"\"\"\n",
        "                    function (key) {\n",
        "                      newKey = \"1\";                                 \n",
        "                     return newKey;\n",
        "                     }\n",
        "                 \"\"\")\n",
        "\n",
        "\n",
        "collection.map_reduce(\n",
        "         mapper,\n",
        "         modification,\n",
        "         \"results\", full_response=True)\n"
      ],
      "execution_count": 0,
      "outputs": []
    },
    {
      "metadata": {
        "id": "cNvwth8CWhbU",
        "colab_type": "code",
        "colab": {}
      },
      "cell_type": "code",
      "source": [
        "'''// De Float o Integer a String\n",
        "collection.find({\"age\": {$exists: true}}).forEach(function(doc){\n",
        "  if(doc.Lon != null){\n",
        "      if (Number.isInteger(doc.Lon)) {\n",
        "        doc.Lon = doc.Lon.toString();            \n",
        "      } else {\n",
        "        doc.Lon = doc.Lon.toString();            \n",
        "      }\n",
        "      db.people.people.save(doc);\n",
        "  } // End of If Condition\n",
        "}) // End of foreach\n",
        "\n",
        "\n",
        "// De String a Float\n",
        "collection.find({\"age\": {$exists: true}}).forEach(function(doc){\n",
        "  if(doc.Lon != null){\n",
        "     if(doc.Lon.length > 0){\n",
        "        var newCost = doc.Lon.replace(/,/g, '').replace(/\\$/g, '');\n",
        "        var costString = parseFloat(newCost).toFixed(10);\n",
        "        doc.Lon = parseFloat(costString);    \n",
        "        db.baltimore.save(doc);\n",
        "     } // End of 2 If Condition\n",
        "  } // End of 1 If Condition\n",
        "}) // End of foreach\n",
        "'''"
      ],
      "execution_count": 0,
      "outputs": []
    },
    {
      "metadata": {
        "id": "BIFjR_ttVzVF",
        "colab_type": "code",
        "colab": {}
      },
      "cell_type": "code",
      "source": [
        "\n",
        "'''\n",
        "// De Float o Integer a String\n",
        "db.baltimore.find({\"street\" : {$nin:[\"Caton Ave1\"]}, \"Lon\": {$exists: true}}).forEach(function(doc){\n",
        "  if(doc.Lon != null){\n",
        "      if (Number.isInteger(doc.Lon)) {\n",
        "        doc.Lon = doc.Lon + \".0\"\n",
        "      } else {\n",
        "        doc.Lon = doc.Lon.toString();            \n",
        "      }\n",
        "      db.baltimore.save(doc);\n",
        "  } // End of If Condition\n",
        "}) // End of foreach\n",
        "\n",
        "\n",
        "// De String a Float\n",
        "db.baltimore.find({\"street\" : {$nin:[\"Caton Ave1\"]}, \"Lon\": {$exists: true}}).forEach(function(doc){\n",
        "  if(doc.Lon != null){\n",
        "     if(doc.Lon.length > 0){\n",
        "        var newCost = doc.Lon.replace(/,/g, '').replace(/\\$/g, '');\n",
        "        var costString = parseFloat(newCost).toFixed(10);\n",
        "        doc.Lon = parseFloat(costString);    \n",
        "        db.baltimore.save(doc);\n",
        "     } // End of 2 If Condition\n",
        "  } // End of 1 If Condition\n",
        "}) // End of foreach\n",
        "\n",
        "\n",
        "'''"
      ],
      "execution_count": 0,
      "outputs": []
    },
    {
      "metadata": {
        "id": "6tJv42QvXFqF",
        "colab_type": "text"
      },
      "cell_type": "markdown",
      "source": [
        "#  Under construction"
      ]
    },
    {
      "metadata": {
        "id": "KHnZz5ydz9ZV",
        "colab_type": "code",
        "colab": {}
      },
      "cell_type": "code",
      "source": [
        "#collection.update_many( {\"age\" :{ \"$nin\" : [\"\"] }}, {\"$set\" : {\"$project\" : {\"AnoNacimiento\" : {\"$subtract\": [2018, '$age']} }}})\n",
        "\n",
        "db = collection.aggregate ( [ {\"$project\" :{\"AnoNaciminto\":{\"$subtract\": [2018, '$age']} }}])\n",
        "list (db)[:2]\n"
      ],
      "execution_count": 0,
      "outputs": []
    },
    {
      "metadata": {
        "id": "S9TjA-dyHkc2",
        "colab_type": "code",
        "colab": {}
      },
      "cell_type": "code",
      "source": [
        "#collection.update_many( {\"age\" :{ \"$nin\" : [\"\"] }}, {\"$set\" : {collection.aggregate ( [ {\"$project\" :{ \"AnoNaciminto\" : {\"$subtract\": [2018, '$age']} }}])}})\n"
      ],
      "execution_count": 0,
      "outputs": []
    },
    {
      "metadata": {
        "id": "BCzJsBK8Bz6m",
        "colab_type": "code",
        "colab": {}
      },
      "cell_type": "code",
      "source": [
        "collection.update_many( {\"age\" :{ \"$nin\" : [\"\"] }}, {\"$set\" : { \"AnoNacimiento\" : 20144 } })"
      ],
      "execution_count": 0,
      "outputs": []
    },
    {
      "metadata": {
        "id": "K956zO016AeY",
        "colab_type": "code",
        "colab": {}
      },
      "cell_type": "code",
      "source": [
        "collection.aggregate([ {$group: {\"\"}}])"
      ],
      "execution_count": 0,
      "outputs": []
    },
    {
      "metadata": {
        "id": "ZhA1_qgPJgEC",
        "colab_type": "code",
        "colab": {}
      },
      "cell_type": "code",
      "source": [
        "collection.update_many( {\"AnoNacimiento\"}, {\"$rename\" : { \"AnoNacimient\"} })"
      ],
      "execution_count": 0,
      "outputs": []
    },
    {
      "metadata": {
        "id": "8uoOicjrJpNU",
        "colab_type": "code",
        "colab": {}
      },
      "cell_type": "code",
      "source": [
        ""
      ],
      "execution_count": 0,
      "outputs": []
    },
    {
      "metadata": {
        "id": "tTThIklCWxqm",
        "colab_type": "text"
      },
      "cell_type": "markdown",
      "source": [
        "# Group by "
      ]
    },
    {
      "metadata": {
        "id": "QrN4EaUDW0dW",
        "colab_type": "code",
        "colab": {}
      },
      "cell_type": "code",
      "source": [
        "list ( collection.aggregate([ \n",
        "            {'$group':{\n",
        "                  '_id' :{'IsActive':\"$isActive\", 'Age':\"$age\"}\n",
        "                      }\n",
        "            } ,{'$limit':5} ]))    ##  '$limit':5   shows only 5 items"
      ],
      "execution_count": 0,
      "outputs": []
    },
    {
      "metadata": {
        "id": "sRpVyn16n_en",
        "colab_type": "code",
        "colab": {}
      },
      "cell_type": "code",
      "source": [
        "list ( collection.aggregate([ \n",
        "            {'$group':{\n",
        "                  '_id' :{'IsActive':\"$isActive\", 'Age':\"$age\"}     ###  Creates ID with IsActive + Age\n",
        "                      }\n",
        "            } ]))[:5]        ##  shows only 5 items but all 1000 documents are downloaded   #### WARNING not recommendable"
      ],
      "execution_count": 0,
      "outputs": []
    },
    {
      "metadata": {
        "id": "Iuwn0KVxJuB9",
        "colab_type": "code",
        "colab": {}
      },
      "cell_type": "code",
      "source": [
        "list ( collection.aggregate([\n",
        "              {'$group':{\n",
        "                    '_id' :{'IsActive':\"$isActive\", 'Age':\"$age\"}      ###  Creates ID with IsActive + Age\n",
        "                    ,'age2' : {'$max' : '$age'}                        ###  Adds a new attribute with Age content  ($max is used to pick up the content)\n",
        "                    ,'isActive2' : {'$min' : '$isActive'}              ###  Adds a new attribute with isActive content \n",
        "                        } \n",
        "              }\n",
        "              ,{'$limit': 5}\n",
        "              ])\n",
        "     )"
      ],
      "execution_count": 0,
      "outputs": []
    },
    {
      "metadata": {
        "id": "bydtdjSqJndh",
        "colab_type": "code",
        "colab": {}
      },
      "cell_type": "code",
      "source": [
        "list ( collection.aggregate([\n",
        "              {'$group':{\n",
        "                    '_id' :{'IsActive':\"$isActive\", 'Age':\"$age\"}\n",
        "                    ,'age2' : {'$max' : '$age'}\n",
        "                    ,'isActive2' : {'$min' : '$isActive'} \n",
        "                        } \n",
        "              }\n",
        "              ,{'$project' : {'_id' : 0 , 'age2': 1 , 'isActive2' :1 }}\n",
        "              ,{'$limit': 5}\n",
        "              ])\n",
        "     )"
      ],
      "execution_count": 0,
      "outputs": []
    },
    {
      "metadata": {
        "id": "Swrsk-MlIciP",
        "colab_type": "text"
      },
      "cell_type": "markdown",
      "source": [
        "# Group by &  Sort"
      ]
    },
    {
      "metadata": {
        "id": "sv7ay0jrI0jy",
        "colab_type": "code",
        "colab": {}
      },
      "cell_type": "code",
      "source": [
        "list ( collection.aggregate([\n",
        "              {'$group':{\n",
        "                    '_id' :{'IsActive':\"$isActive\", 'Age':\"$age\"}\n",
        "                    ,'age2' : {'$max' : '$age'}\n",
        "                    ,'isActive2' : {'$min' : '$isActive'} \n",
        "                        } \n",
        "              }\n",
        "              ,{'$project' : {'_id' : 0 , 'age2': 1 , 'isActive2' :1 }}\n",
        "              ,{'$sort': {'age2':1 , 'isActive2' : 1}}\n",
        "              ,{'$limit': 5}\n",
        "              ])\n",
        "     )"
      ],
      "execution_count": 0,
      "outputs": []
    },
    {
      "metadata": {
        "id": "KUnIAOnSAchK",
        "colab_type": "code",
        "colab": {}
      },
      "cell_type": "code",
      "source": [
        "\n",
        "\n",
        "#collection.find({\"_id\": {\"$exists\": True}} , ['name','age','company.email']).skip(1).limit(4).sort({\"name\": -1 }))\n",
        "\n",
        "#collection.find().sort({'age': '-1' })\n",
        "\n",
        "#list ( collection.aggregate([{'$group':{'_id' :{'Name':\"$name\"}}},{'$sort':{'name':1}}]))\n",
        "# list ( collection.aggregate([{'$group':{'_id' :{'Age':\"$age\"}}},{'$sort':{'age':1}}]))\n",
        "#list ( collection.aggregate([{'$group':{'_id' :{'IsActive':\"$isActive\", 'Age':\"$age\"}}},{'$sort':{'isActive':-1}}]))\n",
        "#list(\tcollection.aggregate([{'$group':{'_id' :{'pais':\"$country\", 'npais':\"$country_txt\"}}},{'$sort':{'country':-1}},{'$limit':5}])))\n",
        "#list ( collection.aggregate([{'$group':{'_id' : {'Age':\"$age\"}}},{'$sort':{'isActive':-1}}]))\n",
        "\n",
        "#collection.find ({'age' : 28}, {'name'}).sort ([{ 'name', pymongo.ASCENDING}]) \n",
        "#list(collection.find ({'age' : 28}, {'name'}))\n",
        "\n",
        "\n",
        "\n",
        "#list ( collection.aggregate([{'$group':{'_id' :[{'IsActive':\"$isActive\", 'Age':\"$age\"},{'$sum' :1}] }},{'$sort':{'age':-1}},{'$limit':5} ]))\n",
        "\n",
        "\n",
        "\n",
        "#collection.find ({'age' : 28}, {'name'}).sort ([{ 'name', pymongo.ASCENDING}]) \n",
        "\n",
        "\n",
        "#collection.find ({'age' : 28}, {'name'}).sort ([{ 'name', pymongo.ASCENDING}]) \n",
        "\n",
        "\n",
        "\n",
        "\n",
        "#collection.find().sort({'$age': 1})\n",
        "#list ( collection.find().sort({'age': '-1' }) )\n",
        "\n",
        "list ( collection.aggregate([\n",
        "              {'$group':{\n",
        "                    '_id' :{'IsActive':\"$isActive\", 'Age':\"$age\"}\n",
        "              , 'age2' : {'$max' : '$age'}, 'isActive2' : {'$max' : '$isActive'} \n",
        "                  } \n",
        "#              , {'_id' : False }\n",
        "              }\n",
        "              , {'$project' : {'_id' : 0 , 'age2': 1 , 'isActive2' :1 }}\n",
        "              \n",
        "              ,{'$sort': {'age2':1 , 'isActive2' : 1}}\n",
        "#             ,{'$limit': 10}\n",
        "#             ,{'$sort': {'IsActive':-1}}             \n",
        "              ])\n",
        "     )\n",
        "\n",
        "\n",
        "\n",
        "\n"
      ],
      "execution_count": 0,
      "outputs": []
    },
    {
      "metadata": {
        "id": "OSgM8eD1vcIW",
        "colab_type": "text"
      },
      "cell_type": "markdown",
      "source": [
        "# Bulk Writes"
      ]
    },
    {
      "metadata": {
        "id": "uAiBNg5zvj-5",
        "colab_type": "code",
        "outputId": "1505d75c-6abf-4cc9-da43-b7f1b9d35b03",
        "colab": {
          "base_uri": "https://localhost:8080/",
          "height": 266
        }
      },
      "cell_type": "code",
      "source": [
        "collection.bulkWrite([\n",
        "    { update_one( {'company': {'email': 'jordigonzalez@yurture.com', 'location': {'address': '694 Hewes Street', 'country': 'USA'}, 'phone': '+1 (940) 501-3963', 'title': 'YURTURE'},\n",
        "                   'name': 'Jordi Gonzalez',\n",
        "                   'gender': 'male'\n",
        "    })},\n",
        "    { update_one( {'company': {'email': 'pepegonzalez@yurture.com', 'location': {'address': '694 Hewes Street', 'country': 'USA'}, 'phone': '+1 (940) 501-3963', 'title': 'YURTURE'},\n",
        "                   'name': 'Pepe Gonzalez',\n",
        "                   'gender': 'male'\n",
        "    })},\n",
        "    { update_one( {'company': {'email': 'davidgonzalez@yurture.com', 'location': {'address': '694 Hewes Street', 'country': 'USA'}, 'phone': '+1 (940) 501-3963', 'title': 'YURTURE'},\n",
        "                   'name': 'David Gonzalez',\n",
        "                   'gender': 'male'\n",
        "    })} \n",
        "    \n",
        "    \n",
        "])"
      ],
      "execution_count": 0,
      "outputs": [
        {
          "output_type": "error",
          "ename": "NameError",
          "evalue": "ignored",
          "traceback": [
            "\u001b[0;31m---------------------------------------------------------------------------\u001b[0m",
            "\u001b[0;31mNameError\u001b[0m                                 Traceback (most recent call last)",
            "\u001b[0;32m<ipython-input-3-78794f34f9b3>\u001b[0m in \u001b[0;36m<module>\u001b[0;34m()\u001b[0m\n\u001b[0;32m----> 1\u001b[0;31m collection.bulkWrite([\n\u001b[0m\u001b[1;32m      2\u001b[0m     { update_one( {'company': {'email': 'jordigonzalez@yurture.com', 'location': {'address': '694 Hewes Street', 'country': 'USA'}, 'phone': '+1 (940) 501-3963', 'title': 'YURTURE'},\n\u001b[1;32m      3\u001b[0m                    \u001b[0;34m'name'\u001b[0m\u001b[0;34m:\u001b[0m \u001b[0;34m'Jordi Gonzalez'\u001b[0m\u001b[0;34m,\u001b[0m\u001b[0;34m\u001b[0m\u001b[0m\n\u001b[1;32m      4\u001b[0m                    \u001b[0;34m'gender'\u001b[0m\u001b[0;34m:\u001b[0m \u001b[0;34m'male'\u001b[0m\u001b[0;34m\u001b[0m\u001b[0m\n\u001b[1;32m      5\u001b[0m     })}\n",
            "\u001b[0;31mNameError\u001b[0m: name 'collection' is not defined"
          ]
        }
      ]
    },
    {
      "metadata": {
        "id": "RNXRC18cwHxW",
        "colab_type": "code",
        "outputId": "8767bee8-f143-4fdb-a81a-c9c7a92a69e3",
        "colab": {
          "base_uri": "https://localhost:8080/",
          "height": 246
        }
      },
      "cell_type": "code",
      "source": [
        "requests = [\n",
        "  InsertOne({ '_id': 11, 'name': 'Edgar Martinez', 'salary': \"8.5M\" }),    # Insert #1\n",
        "  InsertOne({ '_id': 3, 'name': 'Alex Rodriguez', 'salary': \"18.3M\" }),    # Insert #2\n",
        "  InsertOne({ '_id': 24, 'name': 'Ken Griffey Jr.', 'salary': \"12.4M\" }),  # Insert #3\n",
        "  InsertOne({ '_id': 11, 'name': 'David Bell', 'salary': \"2.5M\" }),        # Insert #4\n",
        "  InsertOne({ '_id': 19, 'name': 'Jay Buhner', 'salary': \"5.1M\" })         # Insert #5\n",
        "]\n",
        "\n",
        "response = employees.bulk_write(requests)"
      ],
      "execution_count": 0,
      "outputs": [
        {
          "output_type": "error",
          "ename": "NameError",
          "evalue": "ignored",
          "traceback": [
            "\u001b[0;31m---------------------------------------------------------------------------\u001b[0m",
            "\u001b[0;31mNameError\u001b[0m                                 Traceback (most recent call last)",
            "\u001b[0;32m<ipython-input-6-3aac4aab764f>\u001b[0m in \u001b[0;36m<module>\u001b[0;34m()\u001b[0m\n\u001b[1;32m      1\u001b[0m requests = [\n\u001b[0;32m----> 2\u001b[0;31m   \u001b[0mInsertOne\u001b[0m\u001b[0;34m(\u001b[0m\u001b[0;34m{\u001b[0m \u001b[0;34m'_id'\u001b[0m\u001b[0;34m:\u001b[0m \u001b[0;36m11\u001b[0m\u001b[0;34m,\u001b[0m \u001b[0;34m'name'\u001b[0m\u001b[0;34m:\u001b[0m \u001b[0;34m'Edgar Martinez'\u001b[0m\u001b[0;34m,\u001b[0m \u001b[0;34m'salary'\u001b[0m\u001b[0;34m:\u001b[0m \u001b[0;34m\"8.5M\"\u001b[0m \u001b[0;34m}\u001b[0m\u001b[0;34m)\u001b[0m\u001b[0;34m,\u001b[0m    \u001b[0;31m# Insert #1\u001b[0m\u001b[0;34m\u001b[0m\u001b[0m\n\u001b[0m\u001b[1;32m      3\u001b[0m   \u001b[0mInsertOne\u001b[0m\u001b[0;34m(\u001b[0m\u001b[0;34m{\u001b[0m \u001b[0;34m'_id'\u001b[0m\u001b[0;34m:\u001b[0m \u001b[0;36m3\u001b[0m\u001b[0;34m,\u001b[0m \u001b[0;34m'name'\u001b[0m\u001b[0;34m:\u001b[0m \u001b[0;34m'Alex Rodriguez'\u001b[0m\u001b[0;34m,\u001b[0m \u001b[0;34m'salary'\u001b[0m\u001b[0;34m:\u001b[0m \u001b[0;34m\"18.3M\"\u001b[0m \u001b[0;34m}\u001b[0m\u001b[0;34m)\u001b[0m\u001b[0;34m,\u001b[0m    \u001b[0;31m# Insert #2\u001b[0m\u001b[0;34m\u001b[0m\u001b[0m\n\u001b[1;32m      4\u001b[0m   \u001b[0mInsertOne\u001b[0m\u001b[0;34m(\u001b[0m\u001b[0;34m{\u001b[0m \u001b[0;34m'_id'\u001b[0m\u001b[0;34m:\u001b[0m \u001b[0;36m24\u001b[0m\u001b[0;34m,\u001b[0m \u001b[0;34m'name'\u001b[0m\u001b[0;34m:\u001b[0m \u001b[0;34m'Ken Griffey Jr.'\u001b[0m\u001b[0;34m,\u001b[0m \u001b[0;34m'salary'\u001b[0m\u001b[0;34m:\u001b[0m \u001b[0;34m\"12.4M\"\u001b[0m \u001b[0;34m}\u001b[0m\u001b[0;34m)\u001b[0m\u001b[0;34m,\u001b[0m  \u001b[0;31m# Insert #3\u001b[0m\u001b[0;34m\u001b[0m\u001b[0m\n\u001b[1;32m      5\u001b[0m   \u001b[0mInsertOne\u001b[0m\u001b[0;34m(\u001b[0m\u001b[0;34m{\u001b[0m \u001b[0;34m'_id'\u001b[0m\u001b[0;34m:\u001b[0m \u001b[0;36m11\u001b[0m\u001b[0;34m,\u001b[0m \u001b[0;34m'name'\u001b[0m\u001b[0;34m:\u001b[0m \u001b[0;34m'David Bell'\u001b[0m\u001b[0;34m,\u001b[0m \u001b[0;34m'salary'\u001b[0m\u001b[0;34m:\u001b[0m \u001b[0;34m\"2.5M\"\u001b[0m \u001b[0;34m}\u001b[0m\u001b[0;34m)\u001b[0m\u001b[0;34m,\u001b[0m        \u001b[0;31m# Insert #4\u001b[0m\u001b[0;34m\u001b[0m\u001b[0m\n",
            "\u001b[0;31mNameError\u001b[0m: name 'InsertOne' is not defined"
          ]
        }
      ]
    },
    {
      "metadata": {
        "id": "_rpYci12rmMz",
        "colab_type": "code",
        "colab": {}
      },
      "cell_type": "code",
      "source": [
        ""
      ],
      "execution_count": 0,
      "outputs": []
    }
  ]
}