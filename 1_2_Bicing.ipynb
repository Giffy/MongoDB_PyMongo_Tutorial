{
  "nbformat": 4,
  "nbformat_minor": 0,
  "metadata": {
    "colab": {
      "name": "1.2_Bicing.ipynb",
      "version": "0.3.2",
      "provenance": [],
      "include_colab_link": true
    },
    "kernelspec": {
      "name": "python3",
      "display_name": "Python 3"
    }
  },
  "cells": [
    {
      "cell_type": "markdown",
      "metadata": {
        "id": "view-in-github",
        "colab_type": "text"
      },
      "source": [
        "<a href=\"https://colab.research.google.com/github/Giffy/MongoDB_PyMongo_Tutorial/blob/master/1_2_Bicing.ipynb\" target=\"_parent\"><img src=\"https://colab.research.google.com/assets/colab-badge.svg\" alt=\"Open In Colab\"/></a>"
      ]
    },
    {
      "metadata": {
        "id": "f-CW5753pMJ4",
        "colab_type": "text"
      },
      "cell_type": "markdown",
      "source": [
        "# Example 1 - Bicing stations"
      ]
    },
    {
      "metadata": {
        "id": "AqtmVEy30VoL",
        "colab_type": "text"
      },
      "cell_type": "markdown",
      "source": [
        "## Install Pymongo"
      ]
    },
    {
      "metadata": {
        "id": "gt1LolcsDtui",
        "colab_type": "code",
        "colab": {}
      },
      "cell_type": "code",
      "source": [
        "!pip install pymongo==3.7.2   # Install PyMongo\n",
        "!pip install folium geopandas    # Install folium for map visualization"
      ],
      "execution_count": 0,
      "outputs": []
    },
    {
      "metadata": {
        "id": "3VnrKI9H0mGH",
        "colab_type": "text"
      },
      "cell_type": "markdown",
      "source": [
        "## Import libraries"
      ]
    },
    {
      "metadata": {
        "id": "n2YWLuFeLWUB",
        "colab_type": "code",
        "colab": {}
      },
      "cell_type": "code",
      "source": [
        "import pymongo                            # Library to access MongoDB\n",
        "from pymongo import MongoClient           # Imports MongoClient \n",
        "import pandas as pd                       # Library to work with dataframes\n",
        "import folium                             # Library to visualize a map"
      ],
      "execution_count": 0,
      "outputs": []
    },
    {
      "metadata": {
        "id": "FFy8_1BswTOe",
        "colab_type": "text"
      },
      "cell_type": "markdown",
      "source": [
        "## Connect to database"
      ]
    },
    {
      "metadata": {
        "id": "xS_-tgjrEpGg",
        "colab_type": "code",
        "colab": {}
      },
      "cell_type": "code",
      "source": [
        "# uri (uniform resource identifier) defines the connection parameters \n",
        "# uri = 'mongodb:// USER : PASSWORD @ SERVER_NAME : PORT / DATABASENAME')\n",
        "# uri = 'mongodb:// USER : PASSWORD @ SERVER_NAME : PORT / DATABASE_NAME, CLUSTER_1_NAME : PORT , CLUSTER_2_NAME : PORT')\n",
        "uri = 'localhost:27017'\n",
        "# start client to connect to MongoDB server \n",
        "client = MongoClient( uri )"
      ],
      "execution_count": 0,
      "outputs": []
    },
    {
      "metadata": {
        "id": "gCLi6Fz400-C",
        "colab_type": "text"
      },
      "cell_type": "markdown",
      "source": [
        "## Download data"
      ]
    },
    {
      "metadata": {
        "id": "h6YH_9DZFoZ4",
        "colab_type": "code",
        "colab": {}
      },
      "cell_type": "code",
      "source": [
        "dataset = \"https://www.bicing.cat/availability_map/getJsonObject\"\n",
        "!wget $dataset"
      ],
      "execution_count": 0,
      "outputs": []
    },
    {
      "metadata": {
        "id": "xlpxnsTPzUnv",
        "colab_type": "text"
      },
      "cell_type": "markdown",
      "source": [
        "## Load data to database"
      ]
    },
    {
      "metadata": {
        "id": "rz38F2R_1YZF",
        "colab_type": "code",
        "colab": {}
      },
      "cell_type": "code",
      "source": [
        "!mongodb-linux-x86_64-debian71-3.0.15/bin/mongoimport --db barcelona --collection bicing --jsonArray /content/getJsonObject"
      ],
      "execution_count": 0,
      "outputs": []
    },
    {
      "metadata": {
        "id": "t1Wf55rHF-bR",
        "colab_type": "code",
        "colab": {}
      },
      "cell_type": "code",
      "source": [
        "db = client.barcelona                     # Set the database to work on\n",
        "db.list_collection_names()                # List the collections available\n",
        "collection = db.bicing                    # Collection alias"
      ],
      "execution_count": 0,
      "outputs": []
    },
    {
      "metadata": {
        "id": "m3Ly5Gfh27HR",
        "colab_type": "text"
      },
      "cell_type": "markdown",
      "source": [
        "## Quick overview"
      ]
    },
    {
      "metadata": {
        "id": "tTSimkm_GQYm",
        "colab_type": "code",
        "colab": {}
      },
      "cell_type": "code",
      "source": [
        "num_documents = collection.count_documents({'_id' : {'$exists' : 1}})     # Counts the documents in database\n",
        "print ( 'Number of documents in database = ' + str(num_documents) )\n",
        "list ( collection.find().limit(1) )                                       # Shows the first document"
      ],
      "execution_count": 0,
      "outputs": []
    },
    {
      "metadata": {
        "id": "R2wjj8qP42kl",
        "colab_type": "text"
      },
      "cell_type": "markdown",
      "source": [
        "## Query to database:  Get active stations with at least 3 bicycles"
      ]
    },
    {
      "metadata": {
        "id": "rgok9CMZ3g7_",
        "colab_type": "code",
        "colab": {}
      },
      "cell_type": "code",
      "source": [
        "# Loading database query in pandas Dataframe\n",
        "filters = {'status':'OPN', 'bikes' : {'$gte' : '3' }}\n",
        "fields = { '_id', 'lat' , 'lon', 'bikes', 'slots'}\n",
        "\n",
        "query = list( collection.find( filters , fields ) )\n",
        "df = pd.DataFrame ( query )"
      ],
      "execution_count": 0,
      "outputs": []
    },
    {
      "metadata": {
        "id": "iFLuybB_OQ9H",
        "colab_type": "code",
        "colab": {}
      },
      "cell_type": "code",
      "source": [
        "print ( 'Numer of active stations with at least 3 bicycles: ' + str(len (query)) )"
      ],
      "execution_count": 0,
      "outputs": []
    },
    {
      "metadata": {
        "id": "eKyKJGaz3ucX",
        "colab_type": "code",
        "colab": {}
      },
      "cell_type": "code",
      "source": [
        "# prints the first dataframe row \n",
        "df.iloc[0]"
      ],
      "execution_count": 0,
      "outputs": []
    },
    {
      "metadata": {
        "id": "fOwFF5xG5fD4",
        "colab_type": "text"
      },
      "cell_type": "markdown",
      "source": [
        "## Mark Bicing stations in map"
      ]
    },
    {
      "metadata": {
        "id": "9QGdAZzDFtS3",
        "colab_type": "code",
        "colab": {}
      },
      "cell_type": "code",
      "source": [
        "center_lat = 41.394055\n",
        "center_lon = 2.181299\n",
        "\n",
        "locationmap = folium.Map(location=[ center_lat , center_lon ], zoom_start=16 ) #, width=600, height=400 )\n",
        "\n",
        "longitud  = len( df )\n",
        "for i in range ( longitud ):\n",
        "    lng = float(df.iloc[i][3])\n",
        "    lat = float(df.iloc[i][2])\n",
        "    description = 'Bikes: ' + str(df.iloc[i][1]) + '<br> Empty slots: ' + str(df.iloc[i][4])\n",
        "    folium.Marker( [ lat , lng ],\n",
        "                 popup= description,\n",
        "                 icon=folium.Icon(color='red')).add_to(locationmap)\n",
        "\n",
        "locationmap"
      ],
      "execution_count": 0,
      "outputs": []
    }
  ]
}