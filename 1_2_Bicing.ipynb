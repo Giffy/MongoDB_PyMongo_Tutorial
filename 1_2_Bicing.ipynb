{
  "nbformat": 4,
  "nbformat_minor": 0,
  "metadata": {
    "colab": {
      "name": "1.2_Bicing.ipynb",
      "version": "0.3.2",
      "provenance": [],
      "collapsed_sections": [],
      "include_colab_link": true
    },
    "kernelspec": {
      "name": "python3",
      "display_name": "Python 3"
    }
  },
  "cells": [
    {
      "cell_type": "markdown",
      "metadata": {
        "id": "view-in-github",
        "colab_type": "text"
      },
      "source": [
        "<a href=\"https://colab.research.google.com/github/Giffy/MongoDB_PyMongo_Tutorial/blob/master/1_2_Bicing.ipynb\" target=\"_parent\"><img src=\"https://colab.research.google.com/assets/colab-badge.svg\" alt=\"Open In Colab\"/></a>"
      ]
    },
    {
      "metadata": {
        "id": "f-CW5753pMJ4",
        "colab_type": "text"
      },
      "cell_type": "markdown",
      "source": [
        "# Example 1 - Bicing stations"
      ]
    },
    {
      "metadata": {
        "id": "AqtmVEy30VoL",
        "colab_type": "text"
      },
      "cell_type": "markdown",
      "source": [
        "##1. Install Pymongo"
      ]
    },
    {
      "metadata": {
        "id": "gt1LolcsDtui",
        "colab_type": "code",
        "colab": {}
      },
      "cell_type": "code",
      "source": [
        "!pip install pymongo==3.7.2      # Install PyMongo\n",
        "!pip install folium geopandas    # Install folium for map visualization"
      ],
      "execution_count": 0,
      "outputs": []
    },
    {
      "metadata": {
        "id": "3VnrKI9H0mGH",
        "colab_type": "text"
      },
      "cell_type": "markdown",
      "source": [
        "##2. Import libraries"
      ]
    },
    {
      "metadata": {
        "id": "n2YWLuFeLWUB",
        "colab_type": "code",
        "colab": {}
      },
      "cell_type": "code",
      "source": [
        "import pymongo                            # Library to access MongoDB\n",
        "from pymongo import MongoClient           # Imports MongoClient \n",
        "import pandas as pd                       # Library to work with dataframes\n",
        "import folium                             # Library to visualize a map"
      ],
      "execution_count": 0,
      "outputs": []
    },
    {
      "metadata": {
        "id": "FFy8_1BswTOe",
        "colab_type": "text"
      },
      "cell_type": "markdown",
      "source": [
        "##3. Connect to database"
      ]
    },
    {
      "metadata": {
        "id": "xS_-tgjrEpGg",
        "colab_type": "code",
        "colab": {}
      },
      "cell_type": "code",
      "source": [
        "# uri (uniform resource identifier) defines the connection parameters \n",
        "# uri = 'mongodb:// USER : PASSWORD @ SERVER_NAME : PORT / DATABASENAME')\n",
        "# uri = 'mongodb:// USER : PASSWORD @ SERVER_NAME : PORT / DATABASE_NAME, CLUSTER_1_NAME : PORT , CLUSTER_2_NAME : PORT')\n",
        "uri = 'localhost:27017'\n",
        "# start client to connect to MongoDB server \n",
        "client = MongoClient( uri )"
      ],
      "execution_count": 0,
      "outputs": []
    },
    {
      "metadata": {
        "id": "gCLi6Fz400-C",
        "colab_type": "text"
      },
      "cell_type": "markdown",
      "source": [
        "##4. Download data"
      ]
    },
    {
      "metadata": {
        "id": "h6YH_9DZFoZ4",
        "colab_type": "code",
        "colab": {}
      },
      "cell_type": "code",
      "source": [
        "dataset = \"https://www.bicing.cat/availability_map/getJsonObject\"     # Get JSON file from bicing\n",
        "!wget $dataset"
      ],
      "execution_count": 0,
      "outputs": []
    },
    {
      "metadata": {
        "id": "xlpxnsTPzUnv",
        "colab_type": "text"
      },
      "cell_type": "markdown",
      "source": [
        "##5. Load data to database"
      ]
    },
    {
      "metadata": {
        "id": "rz38F2R_1YZF",
        "colab_type": "code",
        "colab": {}
      },
      "cell_type": "code",
      "source": [
        "!mongodb-linux-x86_64-debian71-3.0.15/bin/mongoimport --db barcelona --collection bicing --jsonArray /content/getJsonObject"
      ],
      "execution_count": 0,
      "outputs": []
    },
    {
      "metadata": {
        "id": "t1Wf55rHF-bR",
        "colab_type": "code",
        "colab": {}
      },
      "cell_type": "code",
      "source": [
        "db = client.barcelona                     # Set the database to work on\n",
        "db.list_collection_names()                # List the collections available\n",
        "collection = db.bicing                    # Collection alias"
      ],
      "execution_count": 0,
      "outputs": []
    },
    {
      "metadata": {
        "id": "m3Ly5Gfh27HR",
        "colab_type": "text"
      },
      "cell_type": "markdown",
      "source": [
        "##6. Quick data overview"
      ]
    },
    {
      "metadata": {
        "id": "tTSimkm_GQYm",
        "colab_type": "code",
        "colab": {}
      },
      "cell_type": "code",
      "source": [
        "num_documents = collection.count_documents({'_id' : {'$exists' : 1}})     # Counts the documents in database\n",
        "print ( 'Number of documents in database = ' + str(num_documents) )\n",
        "list ( collection.find().limit(1) )                                       # Shows the first document"
      ],
      "execution_count": 0,
      "outputs": []
    },
    {
      "metadata": {
        "id": "HetR_jd6hQg_",
        "colab_type": "code",
        "colab": {}
      },
      "cell_type": "code",
      "source": [
        "# The values of 'bikes' is string type instead of number. \n",
        "# In order to filter by number greater than, we need to convert the value to integer.\n",
        "# to change an attribute type, can be done easily with mongoDB 4 \n",
        "# In workshop we use mongo 3, I suggest to use the following method to convert it\n",
        "\n",
        "bikes_list = list(collection.distinct('bikes'))             # list the unique values of 'bikes', we get a list of strings \n",
        "for num in bikes_list:                                      # iterate the list, item by item\n",
        "  collection.update_many({'bikes' : num},{'$set': {'bikes' : int(num)}})    # update each document with a number in string with the same number as Integer\n"
      ],
      "execution_count": 0,
      "outputs": []
    },
    {
      "metadata": {
        "id": "R2wjj8qP42kl",
        "colab_type": "text"
      },
      "cell_type": "markdown",
      "source": [
        "##7. Query to database:  Get active stations with at least 3 bicycles"
      ]
    },
    {
      "metadata": {
        "id": "rgok9CMZ3g7_",
        "colab_type": "code",
        "colab": {}
      },
      "cell_type": "code",
      "source": [
        "# Loading database query in pandas Dataframe\n",
        "filters = {'status':'OPN', 'bikes' : {'$gte' : 3 }}   # Usage of gte Query Operator  $gte = \"greater than or equal\"\n",
        "fields = { '_id', 'lat' , 'lon', 'bikes', 'slots'}\n",
        "\n",
        "query = list( collection.find( filters , fields ) )\n",
        "df = pd.DataFrame ( query )                             # Load the database reply in a Pandas DataFrame"
      ],
      "execution_count": 0,
      "outputs": []
    },
    {
      "metadata": {
        "id": "iFLuybB_OQ9H",
        "colab_type": "code",
        "colab": {}
      },
      "cell_type": "code",
      "source": [
        "print ( 'Numer of active stations with at least 3 bicycles: ' + str(len (query)) )"
      ],
      "execution_count": 0,
      "outputs": []
    },
    {
      "metadata": {
        "id": "eKyKJGaz3ucX",
        "colab_type": "code",
        "colab": {}
      },
      "cell_type": "code",
      "source": [
        "df.iloc[0] # prints the first DataFrame row "
      ],
      "execution_count": 0,
      "outputs": []
    },
    {
      "metadata": {
        "id": "fOwFF5xG5fD4",
        "colab_type": "text"
      },
      "cell_type": "markdown",
      "source": [
        "##8. Mark Bicing stations in map"
      ]
    },
    {
      "metadata": {
        "id": "9QGdAZzDFtS3",
        "colab_type": "code",
        "colab": {}
      },
      "cell_type": "code",
      "source": [
        "center_lat = 41.378\n",
        "center_lon = 2.139\n",
        "\n",
        "locationmap = folium.Map(location=[ center_lat , center_lon ], zoom_start=16, width=800, height=600 )\n",
        "\n",
        "longitud  = len( df )\n",
        "for i in range ( longitud ):\n",
        "    lng = float(df.iloc[i][3])\n",
        "    lat = float(df.iloc[i][2])\n",
        "    description = 'Bikes: ' + str(df.iloc[i][1]) + '<br> Empty slots: ' + str(df.iloc[i][4])\n",
        "    folium.Marker( [ lat , lng ],\n",
        "                 popup= description,\n",
        "                 icon=folium.Icon(color='red')).add_to(locationmap)\n",
        "\n",
        "locationmap"
      ],
      "execution_count": 0,
      "outputs": []
    }
  ]
}