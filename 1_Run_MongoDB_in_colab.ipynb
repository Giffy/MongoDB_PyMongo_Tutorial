{
  "nbformat": 4,
  "nbformat_minor": 0,
  "metadata": {
    "colab": {
      "name": "1.Run_MongoDB_in_colab.ipynb",
      "version": "0.3.2",
      "provenance": [],
      "collapsed_sections": [],
      "include_colab_link": true
    },
    "kernelspec": {
      "display_name": "Python 3",
      "language": "python",
      "name": "python3"
    }
  },
  "cells": [
    {
      "cell_type": "markdown",
      "metadata": {
        "id": "view-in-github",
        "colab_type": "text"
      },
      "source": [
        "<a href=\"https://colab.research.google.com/github/Giffy/MongoDB_PyMongo_Tutorial/blob/master/1_Run_MongoDB_in_colab.ipynb\" target=\"_parent\"><img src=\"https://colab.research.google.com/assets/colab-badge.svg\" alt=\"Open In Colab\"/></a>"
      ]
    },
    {
      "metadata": {
        "id": "kOmt80VpVa2W",
        "colab_type": "text"
      },
      "cell_type": "markdown",
      "source": [
        "# Introduction to MongoDB"
      ]
    },
    {
      "metadata": {
        "id": "nvKR9mh7Vkun",
        "colab_type": "text"
      },
      "cell_type": "markdown",
      "source": [
        "MongoDB is a free and open-source database program, developed by [MongoDB Inc](https://www.mongodb.com/). \n",
        "Latest stable release is the 4.0.0  ( 21 June 2018 ), [here](https://www.mongodb.com/download-center#community) download the MongoDB community server."
      ]
    },
    {
      "metadata": {
        "id": "vM6ta952S2z2",
        "colab_type": "text"
      },
      "cell_type": "markdown",
      "source": [
        "# Installing MongoDB in Google Colab"
      ]
    },
    {
      "metadata": {
        "id": "oy8y1i4jl-Ce",
        "colab_type": "text"
      },
      "cell_type": "markdown",
      "source": [
        "Now, we are going to install MongoDB server in Google Colab with educative purpose.<br>\n",
        "Be aware that **all data will be deleted after 12 hours**.\n",
        "\n",
        "If you need a persistent MongoDB server, you need to install it locally, download MongoDB community server (free) from [here](http://www.google.com/search?q=mongodb+download+community+server&btnI) \n"
      ]
    },
    {
      "metadata": {
        "id": "d_W8Zhl_nYBA",
        "colab_type": "code",
        "colab": {}
      },
      "cell_type": "code",
      "source": [
        "# MongoDB download and installation\n",
        "!wget https://fastdl.mongodb.org/linux/mongodb-linux-x86_64-debian71-3.0.15.tgz  # Downloads MongoDB from official repository\n",
        "!tar xfv mongodb-linux-x86_64-debian71-3.0.15.tgz     # Unpack compressed file\n",
        "!rm mongodb-linux-x86_64-debian71-3.0.15.tgz          # Removes downloaded file\n",
        "\n",
        "# Default location of database is \"/data/db\" folder  \n",
        "!mkdir /data                                          # data folder creation \n",
        "!mkdir /data/db                                       # db folder creation inside data"
      ],
      "execution_count": 0,
      "outputs": []
    },
    {
      "metadata": {
        "id": "fYbMpReoBlQj",
        "colab_type": "code",
        "colab": {}
      },
      "cell_type": "code",
      "source": [
        "# Runs mongoDB server\n",
        "!mongodb-linux-x86_64-debian71-3.0.15/bin/mongod --nojournal --dbpath /data/db\n",
        "\n",
        "#!mongodb-linux-x86_64-debian71-3.0.15/bin/mongod --nojournal --port 27017 --dbpath=/data/db --fork --logpath=/data/db/mongodb.log\n",
        "\n",
        "#  --nojournal : disables journal and allows to run Mongo in Colab enviroment (reducing memory usage ) (Warning!!! Journal prevents incompleted data writes and data corruption)\n",
        "#  --port      : defines the port where mongoDB will run\n",
        "#  --dbpath    : defines the location of database folder, by default : /data/db\n",
        "#  --fork      : runs mongoDB in background\n",
        "#  --logpath   : defines the location and name of log file, by default : /data/db/mongodb.log\n",
        "#  --directoryperdb : mongodb will store databases in folder structure\n",
        "#  --wiredTigerDirectoryForIndexes : mongodb will store collections and indexes in folder structure \n",
        "#                                    (allows to create simbolic links and store collections and indexes in independent disks)"
      ],
      "execution_count": 0,
      "outputs": []
    },
    {
      "metadata": {
        "id": "2Tav0v_jBmgV",
        "colab_type": "code",
        "colab": {}
      },
      "cell_type": "code",
      "source": [
        "!mongodb-linux-x86_64-debian71-3.0.15/bin/mongostat"
      ],
      "execution_count": 0,
      "outputs": []
    },
    {
      "metadata": {
        "id": "9nbj7q7wtn42",
        "colab_type": "code",
        "colab": {}
      },
      "cell_type": "code",
      "source": [
        "## Shutdown mongoDB server\n",
        "!mongodb-linux-x86_64-debian71-3.0.15/bin/mongo admin --eval 'db.shutdownServer()'"
      ],
      "execution_count": 0,
      "outputs": []
    },
    {
      "metadata": {
        "id": "8IxGGMVFnWgx",
        "colab_type": "text"
      },
      "cell_type": "markdown",
      "source": [
        "## Congratulations!!  MongoDB server should be running.\n",
        "Find additional notebooks to learn pymongo in http://www.github.com/giffy"
      ]
    }
  ]
}