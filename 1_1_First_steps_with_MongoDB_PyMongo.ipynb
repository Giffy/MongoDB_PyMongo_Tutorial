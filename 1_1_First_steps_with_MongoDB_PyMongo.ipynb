{
  "nbformat": 4,
  "nbformat_minor": 0,
  "metadata": {
    "colab": {
      "name": "1.1_First_steps_with_MongoDB-PyMongo.ipynb",
      "version": "0.3.2",
      "provenance": [],
      "collapsed_sections": [],
      "include_colab_link": true
    },
    "kernelspec": {
      "display_name": "Python 3",
      "language": "python",
      "name": "python3"
    }
  },
  "cells": [
    {
      "cell_type": "markdown",
      "metadata": {
        "id": "view-in-github",
        "colab_type": "text"
      },
      "source": [
        "<a href=\"https://colab.research.google.com/github/Giffy/MongoDB_PyMongo_Tutorial/blob/master/1_1_First_steps_with_MongoDB_PyMongo.ipynb\" target=\"_parent\"><img src=\"https://colab.research.google.com/assets/colab-badge.svg\" alt=\"Open In Colab\"/></a>"
      ]
    },
    {
      "metadata": {
        "id": "z6nmrzfEMkE2",
        "colab_type": "text"
      },
      "cell_type": "markdown",
      "source": [
        "# First steps with MongoDB and PyMongo\n",
        "\n",
        "\n",
        "*   Connection to Mongo\n",
        "*   Basic database, collection management\n",
        "*   CRUD  one document\n",
        "*   CRUD  many documents\n",
        "\n",
        "\n",
        "\n"
      ]
    },
    {
      "metadata": {
        "id": "vM6ta952S2z2",
        "colab_type": "text"
      },
      "cell_type": "markdown",
      "source": [
        "# 1. Install PyMongo (if required)"
      ]
    },
    {
      "metadata": {
        "id": "fpS_a7o_FCVj",
        "colab_type": "code",
        "colab": {}
      },
      "cell_type": "code",
      "source": [
        "# Instaling PyMongo, this is the interface to connect to MongoDB with Python\n",
        "! python -m pip install pymongo==3.7.2"
      ],
      "execution_count": 0,
      "outputs": []
    },
    {
      "metadata": {
        "id": "_YlhIPRViedz",
        "colab_type": "text"
      },
      "cell_type": "markdown",
      "source": [
        "#2. Import PyMongo and establish connection"
      ]
    },
    {
      "metadata": {
        "id": "j5FAz5RM30_M",
        "colab_type": "code",
        "colab": {}
      },
      "cell_type": "code",
      "source": [
        "import datetime                            # Imports datetime library\n",
        "\n",
        "import pymongo\n",
        "from pymongo import MongoClient\n",
        "# uri (uniform resource identifier) defines the connection parameters \n",
        "# \n",
        "uri = 'localhost:27017'\n",
        "# start client to connect to MongoDB server \n",
        "client = MongoClient( uri )"
      ],
      "execution_count": 0,
      "outputs": []
    },
    {
      "metadata": {
        "id": "ubueXR4Ddn9v",
        "colab_type": "code",
        "colab": {}
      },
      "cell_type": "code",
      "source": [
        "client.stats                                # .stats  show details about the client"
      ],
      "execution_count": 0,
      "outputs": []
    },
    {
      "metadata": {
        "id": "ReTAwwEuGvpF",
        "colab_type": "text"
      },
      "cell_type": "markdown",
      "source": [
        "# 3. Basic Database operations"
      ]
    },
    {
      "metadata": {
        "id": "Dp9AHfb8O_ZS",
        "colab_type": "code",
        "colab": {}
      },
      "cell_type": "code",
      "source": [
        "# Show existing database names\n",
        "client.list_database_names()"
      ],
      "execution_count": 0,
      "outputs": []
    },
    {
      "metadata": {
        "id": "QixrK4duFCVu",
        "colab_type": "code",
        "colab": {}
      },
      "cell_type": "code",
      "source": [
        "# Set database name to work with. If it doesn't exist, it will be created as soon as one document is added.\n",
        "db = client.people"
      ],
      "execution_count": 0,
      "outputs": []
    },
    {
      "metadata": {
        "id": "P0fM8nR5QZsU",
        "colab_type": "code",
        "colab": {}
      },
      "cell_type": "code",
      "source": [
        "# Delete a database\n",
        "client.drop_database('people')"
      ],
      "execution_count": 0,
      "outputs": []
    },
    {
      "metadata": {
        "id": "lyXw-8I8SN6m",
        "colab_type": "text"
      },
      "cell_type": "markdown",
      "source": [
        "#4. Basic Collection operations"
      ]
    },
    {
      "metadata": {
        "id": "A36LiAA5SBCc",
        "colab_type": "code",
        "colab": {}
      },
      "cell_type": "code",
      "source": [
        "# Create a new collection. We can create the collection or leave to MongoDB to create it as soon as a document is generated.\n",
        "db.create_collection('adressbook')       # Optional collection creation "
      ],
      "execution_count": 0,
      "outputs": []
    },
    {
      "metadata": {
        "id": "yPp8ExezHvhJ",
        "colab_type": "code",
        "colab": {}
      },
      "cell_type": "code",
      "source": [
        "# Show Collections. Query returns a Cursor [ ] ,  list it to see the content\n",
        "list (db.list_collections())\n",
        "# empty list '[]' means that there are not collections in database"
      ],
      "execution_count": 0,
      "outputs": []
    },
    {
      "metadata": {
        "id": "v81uy9ySFCV5",
        "colab_type": "code",
        "colab": {}
      },
      "cell_type": "code",
      "source": [
        "# Set the collection to work with\n",
        "collection = db.adressbook\n",
        "collection.insert_one({'name' : 'jordi'})     # Insert one item to create the collection\n",
        "list (db.list_collections())                  # Show the existing collections"
      ],
      "execution_count": 0,
      "outputs": []
    },
    {
      "metadata": {
        "id": "_LDPtPcFTPC0",
        "colab_type": "code",
        "colab": {}
      },
      "cell_type": "code",
      "source": [
        "# Rename a collections\n",
        "db.adressbook.rename('addressbook')\n",
        "collection = db.addressbook                   # Set the collection to work with\n",
        "list (db.list_collections())                  # Show the existing collections"
      ],
      "execution_count": 0,
      "outputs": []
    },
    {
      "metadata": {
        "id": "auhUMnXQHng8",
        "colab_type": "code",
        "colab": {}
      },
      "cell_type": "code",
      "source": [
        "# Delete collection\n",
        "db.drop_collection('addressbook')"
      ],
      "execution_count": 0,
      "outputs": []
    },
    {
      "metadata": {
        "id": "FVB8FcgQz8ok",
        "colab_type": "text"
      },
      "cell_type": "markdown",
      "source": [
        "# 5. Basic Collection operations"
      ]
    },
    {
      "metadata": {
        "id": "R5Xe4Qg6G-iu",
        "colab_type": "text"
      },
      "cell_type": "markdown",
      "source": [
        "##5.1 Query Operators - Create Read Update Delete  (one document)"
      ]
    },
    {
      "metadata": {
        "id": "oseJcRsuCr62",
        "colab_type": "text"
      },
      "cell_type": "markdown",
      "source": [
        "### 5.1.1 Create a document with:  insert_one()"
      ]
    },
    {
      "metadata": {
        "id": "sHEjFxlnpNjH",
        "colab_type": "text"
      },
      "cell_type": "markdown",
      "source": [
        "To insert a document can be done using: insert_one and JavaScript notation  { 'attributeName1'  :  'content1', 'attributeName2'  :  'content2', ... }\n"
      ]
    },
    {
      "metadata": {
        "id": "y5TvGradhcu6",
        "colab_type": "code",
        "cellView": "form",
        "colab": {}
      },
      "cell_type": "code",
      "source": [
        "#@title Contact\n",
        "\n",
        "Name = \"Jordi Perez\" #@param {type:\"string\"}\n",
        "Age = 34 #@param {type:\"slider\", min:10, max:80, step:1}\n",
        "Gender = \"Male\" #@param [\"Male\", \"Female\"]\n",
        "Likes_Python = \"Yes\" #@param [\"Yes\", \"No\"]\n",
        "if Likes_Python is \"Yes\":\n",
        "  Likes_Python = True\n",
        "else:\n",
        "  Likes_Python = False\n",
        "\n",
        "\n",
        "#@markdown Address\n",
        "Street = \"Torrent de l'Olla\" #@param {type:\"string\"}\n",
        "Number = 70 #@param {type:\"integer\"}\n",
        "City = \"Barcelona\" #@param {type:\"string\"}\n",
        "PostalCode = \"08012\" #@param {type:\"string\"}"
      ],
      "execution_count": 0,
      "outputs": []
    },
    {
      "metadata": {
        "id": "PWDCx-V20Quk",
        "colab_type": "code",
        "colab": {}
      },
      "cell_type": "code",
      "source": [
        "data = {  'name' : Name ,                                    # String \n",
        "          'age' : Age,                                       # Integer\n",
        "          'gender' : Gender,                                 # String \n",
        "          'likes_python' : Likes_Python,                     # Boolean\n",
        "          'address': {\n",
        "              'street' : Street,                             # String ( special character with escape \\ )\n",
        "              'number' : Number,                             # Integer\n",
        "              'city' : City,                                 # String \n",
        "              'floor' : None,                                # Null \n",
        "              'postalcode' : PostalCode,                     # String containing a number\n",
        "          'favouriteFruits': ['banana','pineapple','orange']         # Array  \n",
        "\n",
        "          }        \n",
        "       }\n",
        "\n",
        "insert_result = collection.insert_one( data)"
      ],
      "execution_count": 0,
      "outputs": []
    },
    {
      "metadata": {
        "id": "BpNu_5ic6J1m",
        "colab_type": "code",
        "colab": {}
      },
      "cell_type": "code",
      "source": [
        "insert_result.acknowledged   # Confirms that insert is successful"
      ],
      "execution_count": 0,
      "outputs": []
    },
    {
      "metadata": {
        "id": "gg370PIV6UZa",
        "colab_type": "code",
        "colab": {}
      },
      "cell_type": "code",
      "source": [
        "insert_result.inserted_id     # Shows the document ID "
      ],
      "execution_count": 0,
      "outputs": []
    },
    {
      "metadata": {
        "id": "sDpl7VnP1VWG",
        "colab_type": "text"
      },
      "cell_type": "markdown",
      "source": [
        "###5.1.2 Read document with:  find()"
      ]
    },
    {
      "metadata": {
        "id": "MZvVOfqh5_hv",
        "colab_type": "text"
      },
      "cell_type": "markdown",
      "source": [
        "To read a document can be done using: find and JavaScript notation  {  'attribute1 containing the key'  :  'key1 to find' }\n"
      ]
    },
    {
      "metadata": {
        "id": "LNhnVqL7C6L5",
        "colab_type": "code",
        "colab": {}
      },
      "cell_type": "code",
      "source": [
        "list ( collection.find() )                 # gets all data of collection"
      ],
      "execution_count": 0,
      "outputs": []
    },
    {
      "metadata": {
        "id": "0OEJIWqw6hkw",
        "colab_type": "code",
        "colab": {}
      },
      "cell_type": "code",
      "source": [
        "list( collection.find( {'_id' : insert_result.inserted_id } ))  # Find the inserted document using the objectID"
      ],
      "execution_count": 0,
      "outputs": []
    },
    {
      "metadata": {
        "id": "Rpy9H1SZ_eA0",
        "colab_type": "code",
        "colab": {}
      },
      "cell_type": "code",
      "source": [
        "list ( collection.find( {'name' : Name } ))        # find, can use one key or more "
      ],
      "execution_count": 0,
      "outputs": []
    },
    {
      "metadata": {
        "id": "G2AAmVJcr1iz",
        "colab_type": "code",
        "colab": {}
      },
      "cell_type": "code",
      "source": [
        "list ( collection.find( {'address.city' : City } ))        # find, can use one key or more "
      ],
      "execution_count": 0,
      "outputs": []
    },
    {
      "metadata": {
        "id": "MDKSxbQQepBs",
        "colab_type": "code",
        "colab": {}
      },
      "cell_type": "code",
      "source": [
        "list ( collection.find().limit(1) )        # gets a Limited set of documents"
      ],
      "execution_count": 0,
      "outputs": []
    },
    {
      "metadata": {
        "id": "hgbLrIeug1MX",
        "colab_type": "code",
        "colab": {}
      },
      "cell_type": "code",
      "source": [
        "list ( collection.find().skip(1) )        # gets all documents skipping first"
      ],
      "execution_count": 0,
      "outputs": []
    },
    {
      "metadata": {
        "id": "cpMUuvEE1oIJ",
        "colab_type": "text"
      },
      "cell_type": "markdown",
      "source": [
        "###5.1.3 Update a document with:  update_one()"
      ]
    },
    {
      "metadata": {
        "id": "g6CguWd411Fe",
        "colab_type": "code",
        "colab": {}
      },
      "cell_type": "code",
      "source": [
        "## Update an existing document\n",
        "update_result = collection.update_one( {'name' : Name}, {'$set' : { 'age' : 30 }} ) \n",
        "list (collection.find( {'name' : Name } ))"
      ],
      "execution_count": 0,
      "outputs": []
    },
    {
      "metadata": {
        "id": "yFwE-Z-E8ENV",
        "colab_type": "code",
        "colab": {}
      },
      "cell_type": "code",
      "source": [
        "update_result.raw_result"
      ],
      "execution_count": 0,
      "outputs": []
    },
    {
      "metadata": {
        "id": "taXdk9u58WVc",
        "colab_type": "code",
        "colab": {}
      },
      "cell_type": "code",
      "source": [
        "## Insert a new document with update, will avoid to crash during insert if document already exist\n",
        "insert_result = collection.update_one( {'name' : 'Javi Gonzalez'}, {'$set' : { 'age' : 30 }}, upsert= True )\n",
        "list (collection.find( {'name' : 'Javi Gonzalez'} ))"
      ],
      "execution_count": 0,
      "outputs": []
    },
    {
      "metadata": {
        "id": "ogsKmIUK8xZ6",
        "colab_type": "code",
        "colab": {}
      },
      "cell_type": "code",
      "source": [
        "update_result.acknowledged"
      ],
      "execution_count": 0,
      "outputs": []
    },
    {
      "metadata": {
        "id": "7RcNmDunUN4a",
        "colab_type": "text"
      },
      "cell_type": "markdown",
      "source": [
        "###5.1.4 Delete a document with:  delete_one()"
      ]
    },
    {
      "metadata": {
        "id": "4P-hs1KYTkSE",
        "colab_type": "code",
        "colab": {}
      },
      "cell_type": "code",
      "source": [
        "delete = collection.delete_one({'name': 'Javi Gonzalez'})"
      ],
      "execution_count": 0,
      "outputs": []
    },
    {
      "metadata": {
        "id": "kTkAUmagmirT",
        "colab_type": "code",
        "colab": {}
      },
      "cell_type": "code",
      "source": [
        "delete.deleted_count   # informs that 1 document has been deleted"
      ],
      "execution_count": 0,
      "outputs": []
    },
    {
      "metadata": {
        "id": "4KW9g0CK9cSQ",
        "colab_type": "code",
        "colab": {}
      },
      "cell_type": "code",
      "source": [
        "collection.delete_one({'name': Name})"
      ],
      "execution_count": 0,
      "outputs": []
    },
    {
      "metadata": {
        "id": "-_XeMAc99y0M",
        "colab_type": "text"
      },
      "cell_type": "markdown",
      "source": [
        "##5.2 Create Read Update Delete  (many document)"
      ]
    },
    {
      "metadata": {
        "id": "KlWjFIiJ-zik",
        "colab_type": "text"
      },
      "cell_type": "markdown",
      "source": [
        "###5.2.1 Create a document with:  insert_many()"
      ]
    },
    {
      "metadata": {
        "id": "COlmggkW-wPt",
        "colab_type": "text"
      },
      "cell_type": "markdown",
      "source": [
        "To insert many documents can be done using: insert_many and JavaScript notation  { 'attributeDocument1'  :  'content1' } , { 'attributeDocument2'  :  'content2'},{ ... }"
      ]
    },
    {
      "metadata": {
        "id": "E4jl1K7t98Io",
        "colab_type": "code",
        "colab": {}
      },
      "cell_type": "code",
      "source": [
        "import datetime\n",
        "collection.insert_many(  [                          # <---- start a list with [\n",
        "##  Insert Document 1\n",
        "  {\n",
        "  'name': 'Jordi Gonzalez',\n",
        "  'age': 25,\n",
        "  'likes_python': True,\n",
        "  'registered': datetime.datetime(2015, 2, 11, 4, 22, 39),\n",
        "  'address': {\n",
        "      'street': 'Torrent de l\\'Olla',\n",
        "      'number': 70,\n",
        "      'floor': None,\n",
        "      'city': 'Barcelona',\n",
        "      'postalCode': '08012'\n",
        "             },\n",
        "  'height':  1.72,\n",
        "  'favouriteFruits': ['banana','pineapple','orange']\n",
        "  },\n",
        "\n",
        "##  Insert Document 2\n",
        "  {\n",
        "  'name': 'Maria Smith',\n",
        "  'age': 30,\n",
        "  'likes_python': True,\n",
        "  'registered': datetime.datetime(2016, 4, 23, 7, 34, 12),\n",
        "  'address': {\n",
        "      'street': 'Numancia',\n",
        "                                                     ##  missing number\n",
        "                                                     ##  missing floor\n",
        "      'city': 'Barcelona',\n",
        "      'postalCode': '08029'\n",
        "             },\n",
        "  'height':  1.56,\n",
        "  'favouriteFruits': ['lemon','pineapple']\n",
        "  }\n",
        "  ]   )                                              # <---- finalize the list ] "
      ],
      "execution_count": 0,
      "outputs": []
    },
    {
      "metadata": {
        "id": "Qo2iHN59ABf4",
        "colab_type": "text"
      },
      "cell_type": "markdown",
      "source": [
        "###5.2.2 Read many documents with:  find()"
      ]
    },
    {
      "metadata": {
        "id": "qTMRRStMABgH",
        "colab_type": "text"
      },
      "cell_type": "markdown",
      "source": [
        "To read a document can be done using: find and JavaScript notation  {  'attribute1 containing the key'  :  'key1 to find' }\n"
      ]
    },
    {
      "metadata": {
        "id": "ka-1_6poABgS",
        "colab_type": "code",
        "colab": {}
      },
      "cell_type": "code",
      "source": [
        "list ( collection.find( {'$or': [ {'name': 'Jordi Gonzalez'},{'name': 'Maria Smith'} ]}))        # find "
      ],
      "execution_count": 0,
      "outputs": []
    },
    {
      "metadata": {
        "id": "0KAltbIoFB7n",
        "colab_type": "text"
      },
      "cell_type": "markdown",
      "source": [
        "###5.2.3 Update many documents with:  update_many()"
      ]
    },
    {
      "metadata": {
        "id": "rh46eDULFB77",
        "colab_type": "code",
        "colab": {}
      },
      "cell_type": "code",
      "source": [
        "collection.update_many( {'isActive': True }, {'$set' : { 'isActive': False }} )\n",
        "list (collection.find( ))                       # List all documents"
      ],
      "execution_count": 0,
      "outputs": []
    },
    {
      "metadata": {
        "id": "pmjc4qMBFB8i",
        "colab_type": "text"
      },
      "cell_type": "markdown",
      "source": [
        "###5.2.4 Delete many documents with:  delete_many()"
      ]
    },
    {
      "metadata": {
        "id": "QPwUlKMkUJyi",
        "colab_type": "code",
        "colab": {}
      },
      "cell_type": "code",
      "source": [
        "delete = collection.delete_many({'likes_python': True})    # deletes as many documents as the filter\n",
        "list (collection.find( ))                                  # List all documents"
      ],
      "execution_count": 0,
      "outputs": []
    },
    {
      "metadata": {
        "id": "mF8jFSc4m44q",
        "colab_type": "code",
        "colab": {}
      },
      "cell_type": "code",
      "source": [
        "delete.deleted_count   # items deleted"
      ],
      "execution_count": 0,
      "outputs": []
    },
    {
      "metadata": {
        "id": "QwW5RUte_hGP",
        "colab_type": "text"
      },
      "cell_type": "markdown",
      "source": [
        "## Congratulations,  you finished the part 1 !!\n",
        "Find additional notebooks to learn pymongo in http://www.github.com/giffy"
      ]
    }
  ]
}